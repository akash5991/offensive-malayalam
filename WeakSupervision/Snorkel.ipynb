{
 "cells": [
  {
   "cell_type": "code",
   "execution_count": 58,
   "metadata": {},
   "outputs": [],
   "source": [
    "import pandas as pd\n",
    "from sklearn.model_selection import train_test_split, GridSearchCV\n",
    "import rubrix as rb\n",
    "from rubrix.labeling.text_classification.weak_labels import  WeakLabels\n",
    "from rubrix.labeling.text_classification import MajorityVoter\n",
    "from rubrix.labeling.text_classification import Snorkel, FlyingSquid"
   ]
  },
  {
   "cell_type": "code",
   "execution_count": 2,
   "metadata": {},
   "outputs": [],
   "source": [
    "df = pd.read_excel('Labelled.xlsx')"
   ]
  },
  {
   "cell_type": "code",
   "execution_count": 3,
   "metadata": {},
   "outputs": [
    {
     "data": {
      "text/plain": [
       "(9400, 2)"
      ]
     },
     "execution_count": 3,
     "metadata": {},
     "output_type": "execute_result"
    }
   ],
   "source": [
    "df.shape"
   ]
  },
  {
   "cell_type": "code",
   "execution_count": 10,
   "metadata": {},
   "outputs": [],
   "source": [
    "train_data = df[df['label'].isnull()]\n",
    "test_data  = df[df['label'].notnull()]\n",
    "#df.shape"
   ]
  },
  {
   "cell_type": "code",
   "execution_count": 23,
   "metadata": {},
   "outputs": [
    {
     "data": {
      "text/html": [
       "<div>\n",
       "<style scoped>\n",
       "    .dataframe tbody tr th:only-of-type {\n",
       "        vertical-align: middle;\n",
       "    }\n",
       "\n",
       "    .dataframe tbody tr th {\n",
       "        vertical-align: top;\n",
       "    }\n",
       "\n",
       "    .dataframe thead th {\n",
       "        text-align: right;\n",
       "    }\n",
       "</style>\n",
       "<table border=\"1\" class=\"dataframe\">\n",
       "  <thead>\n",
       "    <tr style=\"text-align: right;\">\n",
       "      <th></th>\n",
       "      <th>text</th>\n",
       "      <th>label</th>\n",
       "    </tr>\n",
       "  </thead>\n",
       "  <tbody>\n",
       "    <tr>\n",
       "      <th>3080</th>\n",
       "      <td>ആയിട്ട് Compare ചെയ്യാൻ പറ്റിയ ഐറ്റം നെരസിംഹം ...</td>\n",
       "      <td>NaN</td>\n",
       "    </tr>\n",
       "    <tr>\n",
       "      <th>3156</th>\n",
       "      <td>ഈ മൈരൻ പറയുന്നത് ഒന്നും വിശ്വസിക്കാൻ പറ്റില്ല</td>\n",
       "      <td>NaN</td>\n",
       "    </tr>\n",
       "    <tr>\n",
       "      <th>3648</th>\n",
       "      <td>ആളെക്കൂട്ടാൻ തന്ത എത്രയാണെന്ന് ചോദിച്ചാൽ പത്തു...</td>\n",
       "      <td>NaN</td>\n",
       "    </tr>\n",
       "    <tr>\n",
       "      <th>5020</th>\n",
       "      <td>തായോളി.. എന്ന് നിന്നെ വിളിക്കുന്നത് കുറവാണ്.....</td>\n",
       "      <td>NaN</td>\n",
       "    </tr>\n",
       "    <tr>\n",
       "      <th>5021</th>\n",
       "      <td>അങ്ങനെ ട്വിറ്റെറിലേക്ക് ഒരു മൈരൻ കൂടി വന്നിരിക...</td>\n",
       "      <td>NaN</td>\n",
       "    </tr>\n",
       "    <tr>\n",
       "      <th>...</th>\n",
       "      <td>...</td>\n",
       "      <td>...</td>\n",
       "    </tr>\n",
       "    <tr>\n",
       "      <th>9395</th>\n",
       "      <td>പേടിച്ച് അക്കൗണ്ട് പൂട്ടിക്കാൻ നടന്ന ആ സൊച്യലി...</td>\n",
       "      <td>NaN</td>\n",
       "    </tr>\n",
       "    <tr>\n",
       "      <th>9396</th>\n",
       "      <td>നീ എന്തൊരു മൈരൻ ആണ് 😌</td>\n",
       "      <td>NaN</td>\n",
       "    </tr>\n",
       "    <tr>\n",
       "      <th>9397</th>\n",
       "      <td>വാരിയം കുണ്ടൻ രായപ്പനും   കാമ്പയിനിൽ ചോദ്യം ചെ...</td>\n",
       "      <td>NaN</td>\n",
       "    </tr>\n",
       "    <tr>\n",
       "      <th>9398</th>\n",
       "      <td>ജീ കണ്ടാ നാറികൾ ക്കു വേണ്ടി എന്തിനാ താങ്കൾ ത...</td>\n",
       "      <td>NaN</td>\n",
       "    </tr>\n",
       "    <tr>\n",
       "      <th>9399</th>\n",
       "      <td>മത മൈരൻ എത്തി....😝</td>\n",
       "      <td>NaN</td>\n",
       "    </tr>\n",
       "  </tbody>\n",
       "</table>\n",
       "<p>4383 rows × 2 columns</p>\n",
       "</div>"
      ],
      "text/plain": [
       "                                                   text label\n",
       "3080  ആയിട്ട് Compare ചെയ്യാൻ പറ്റിയ ഐറ്റം നെരസിംഹം ...   NaN\n",
       "3156      ഈ മൈരൻ പറയുന്നത് ഒന്നും വിശ്വസിക്കാൻ പറ്റില്ല   NaN\n",
       "3648  ആളെക്കൂട്ടാൻ തന്ത എത്രയാണെന്ന് ചോദിച്ചാൽ പത്തു...   NaN\n",
       "5020   തായോളി.. എന്ന് നിന്നെ വിളിക്കുന്നത് കുറവാണ്.....   NaN\n",
       "5021  അങ്ങനെ ട്വിറ്റെറിലേക്ക് ഒരു മൈരൻ കൂടി വന്നിരിക...   NaN\n",
       "...                                                 ...   ...\n",
       "9395  പേടിച്ച് അക്കൗണ്ട് പൂട്ടിക്കാൻ നടന്ന ആ സൊച്യലി...   NaN\n",
       "9396                              നീ എന്തൊരു മൈരൻ ആണ് 😌   NaN\n",
       "9397  വാരിയം കുണ്ടൻ രായപ്പനും   കാമ്പയിനിൽ ചോദ്യം ചെ...   NaN\n",
       "9398    ജീ കണ്ടാ നാറികൾ ക്കു വേണ്ടി എന്തിനാ താങ്കൾ ത...   NaN\n",
       "9399                                 മത മൈരൻ എത്തി....😝   NaN\n",
       "\n",
       "[4383 rows x 2 columns]"
      ]
     },
     "execution_count": 23,
     "metadata": {},
     "output_type": "execute_result"
    }
   ],
   "source": [
    "#train_data, test_data = train_test_split(df, test_size=0.2, random_state=42)\n",
    "train_data"
   ]
  },
  {
   "cell_type": "code",
   "execution_count": 14,
   "metadata": {},
   "outputs": [],
   "source": [
    "records = [rb.TextClassificationRecord(text=row.text)\n",
    "    for i,row in train_data.iterrows()\n",
    "            ]\n",
    "\n",
    "# build records from the test dataset with annotation\n",
    "labels = ['Offensive-Ind', 'Offensive-Untargetted', 'Offensive-Group', 'Not-Offensive']\n",
    "records += [rb.TextClassificationRecord(text=row.text,annotation=row.label)\n",
    "    for i,row in test_data.iterrows()\n",
    "        ]"
   ]
  },
  {
   "cell_type": "code",
   "execution_count": 15,
   "metadata": {},
   "outputs": [
    {
     "data": {
      "text/plain": [
       "9400"
      ]
     },
     "execution_count": 15,
     "metadata": {},
     "output_type": "execute_result"
    }
   ],
   "source": [
    "len(records)"
   ]
  },
  {
   "cell_type": "code",
   "execution_count": 16,
   "metadata": {},
   "outputs": [
    {
     "data": {
      "application/vnd.jupyter.widget-view+json": {
       "model_id": "860573291a3941668c4bd19f5154937b",
       "version_major": 2,
       "version_minor": 0
      },
      "text/plain": [
       "  0%|          | 0/9400 [00:00<?, ?it/s]"
      ]
     },
     "metadata": {},
     "output_type": "display_data"
    },
    {
     "name": "stdout",
     "output_type": "stream",
     "text": [
      "9400 records logged to http://localhost:6900/datasets/rubrix/weak_supervision\n"
     ]
    },
    {
     "data": {
      "text/plain": [
       "BulkResponse(dataset='weak_supervision', processed=9400, failed=0)"
      ]
     },
     "execution_count": 16,
     "metadata": {},
     "output_type": "execute_result"
    }
   ],
   "source": [
    "rb.log(records, name=\"weak_supervision\")"
   ]
  },
  {
   "cell_type": "code",
   "execution_count": 17,
   "metadata": {},
   "outputs": [
    {
     "data": {
      "application/vnd.jupyter.widget-view+json": {
       "model_id": "6bb88864e4be46778fb821df4ddcfc04",
       "version_major": 2,
       "version_minor": 0
      },
      "text/plain": [
       "Preparing rules:   0%|          | 0/19 [00:00<?, ?it/s]"
      ]
     },
     "metadata": {},
     "output_type": "display_data"
    },
    {
     "data": {
      "application/vnd.jupyter.widget-view+json": {
       "model_id": "cca6f62e63b74b25b32fcc4dc41f5073",
       "version_major": 2,
       "version_minor": 0
      },
      "text/plain": [
       "Applying rules:   0%|          | 0/9400 [00:00<?, ?it/s]"
      ]
     },
     "metadata": {},
     "output_type": "display_data"
    }
   ],
   "source": [
    "weak_labels = WeakLabels(dataset=\"weak_supervision\")"
   ]
  },
  {
   "cell_type": "code",
   "execution_count": 18,
   "metadata": {},
   "outputs": [],
   "source": [
    "majority_model = MajorityVoter(weak_labels)"
   ]
  },
  {
   "cell_type": "code",
   "execution_count": 19,
   "metadata": {},
   "outputs": [
    {
     "name": "stdout",
     "output_type": "stream",
     "text": [
      "                       precision    recall  f1-score   support\n",
      "\n",
      "      Offensive-Group       0.35      0.75      0.48       639\n",
      "        Offensive-Ind       0.83      0.55      0.66      3603\n",
      "Offensive-Untargetted       0.25      0.42      0.31       443\n",
      "        Not-Offensive       0.10      0.16      0.13       332\n",
      "\n",
      "             accuracy                           0.54      5017\n",
      "            macro avg       0.38      0.47      0.40      5017\n",
      "         weighted avg       0.67      0.54      0.57      5017\n",
      "\n"
     ]
    }
   ],
   "source": [
    "print(majority_model.score(tie_break_policy=\"random\",output_str=True))"
   ]
  },
  {
   "cell_type": "code",
   "execution_count": 20,
   "metadata": {},
   "outputs": [],
   "source": [
    "# To get the weak labels of the training data based on majority voting\n",
    "records_for_training = majority_model.predict()"
   ]
  },
  {
   "cell_type": "code",
   "execution_count": 53,
   "metadata": {},
   "outputs": [
    {
     "name": "stderr",
     "output_type": "stream",
     "text": [
      "100%|██████████| 100/100 [00:00<00:00, 880.00epoch/s]\n"
     ]
    }
   ],
   "source": [
    "snorkel_model = Snorkel(weak_labels)\n",
    "snorkel_model.fit(lr=0.001, n_epochs=100)"
   ]
  },
  {
   "cell_type": "code",
   "execution_count": 54,
   "metadata": {},
   "outputs": [
    {
     "name": "stdout",
     "output_type": "stream",
     "text": [
      "                       precision    recall  f1-score   support\n",
      "\n",
      "      Offensive-Group       0.57      0.75      0.65       589\n",
      "        Offensive-Ind       0.83      0.81      0.82      1972\n",
      "Offensive-Untargetted       0.57      0.58      0.58       245\n",
      "        Not-Offensive       0.21      0.02      0.03       165\n",
      "\n",
      "             accuracy                           0.74      2971\n",
      "            macro avg       0.55      0.54      0.52      2971\n",
      "         weighted avg       0.72      0.74      0.72      2971\n",
      "\n"
     ]
    }
   ],
   "source": [
    "print(snorkel_model.score(output_str=True))"
   ]
  },
  {
   "cell_type": "code",
   "execution_count": 56,
   "metadata": {},
   "outputs": [
    {
     "data": {
      "application/vnd.jupyter.widget-view+json": {
       "model_id": "63767c0fd6a54d2988048c856f1ceb3e",
       "version_major": 2,
       "version_minor": 0
      },
      "text/plain": [
       "  0%|          | 0/2705 [00:00<?, ?it/s]"
      ]
     },
     "metadata": {},
     "output_type": "display_data"
    },
    {
     "name": "stdout",
     "output_type": "stream",
     "text": [
      "2705 records logged to http://localhost:6900/datasets/rubrix/snorkel_results\n"
     ]
    }
   ],
   "source": [
    "records_for_training = snorkel_model.predict()\n",
    "\n",
    "# optional: log the records to a new dataset in Rubrix\n",
    "rb.log(records_for_training, name=\"snorkel_results\")\n",
    "\n",
    "# extract training data\n",
    "training_data = pd.DataFrame(\n",
    "    [\n",
    "        {\"text\": rec.text, \"label\": rec.prediction[0][0]}\n",
    "        for rec in records_for_training\n",
    "    ]\n",
    ")"
   ]
  },
  {
   "cell_type": "code",
   "execution_count": 59,
   "metadata": {},
   "outputs": [
    {
     "name": "stderr",
     "output_type": "stream",
     "text": [
      "/home/sudheesh/anaconda3/envs/rubrix/lib/python3.8/site-packages/pgmpy/models/MarkovModel.py:8: FutureWarning: MarkovModel has been renamed to MarkovNetwork. Please use MarkovNetwork class, MarkovModel will be removed in future.\n",
      "  warnings.warn(\n"
     ]
    }
   ],
   "source": [
    "flyingsquid_model = FlyingSquid(weak_labels)\n",
    "\n",
    "# we fit the model\n",
    "flyingsquid_model.fit()"
   ]
  },
  {
   "cell_type": "code",
   "execution_count": 60,
   "metadata": {},
   "outputs": [
    {
     "name": "stdout",
     "output_type": "stream",
     "text": [
      "                       precision    recall  f1-score   support\n",
      "\n",
      "      Offensive-Group       0.58      0.74      0.65       574\n",
      "        Offensive-Ind       0.83      0.83      0.83      1935\n",
      "Offensive-Untargetted       0.58      0.58      0.58       232\n",
      "        Not-Offensive       0.21      0.02      0.03       161\n",
      "\n",
      "             accuracy                           0.74      2902\n",
      "            macro avg       0.55      0.54      0.52      2902\n",
      "         weighted avg       0.73      0.74      0.73      2902\n",
      "\n"
     ]
    }
   ],
   "source": [
    "print(flyingsquid_model.score(output_str=True))"
   ]
  }
 ],
 "metadata": {
  "kernelspec": {
   "display_name": "Python 3.8.13 ('rubrix')",
   "language": "python",
   "name": "python3"
  },
  "language_info": {
   "codemirror_mode": {
    "name": "ipython",
    "version": 3
   },
   "file_extension": ".py",
   "mimetype": "text/x-python",
   "name": "python",
   "nbconvert_exporter": "python",
   "pygments_lexer": "ipython3",
   "version": "3.8.13"
  },
  "orig_nbformat": 4,
  "vscode": {
   "interpreter": {
    "hash": "01ecd0fca16fd541386a98af1f1167bd548bb92cdfb21ce13476623cd809977c"
   }
  }
 },
 "nbformat": 4,
 "nbformat_minor": 2
}
