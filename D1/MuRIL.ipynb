{
 "cells": [
  {
   "cell_type": "code",
   "execution_count": 1,
   "metadata": {},
   "outputs": [],
   "source": [
    "model_name = \"google/muril-base-cased\""
   ]
  },
  {
   "cell_type": "code",
   "execution_count": 2,
   "metadata": {},
   "outputs": [],
   "source": [
    "from transformers import AutoModelForSequenceClassification, AutoTokenizer, DataCollatorWithPadding, Trainer, TrainingArguments, EarlyStoppingCallback\n",
    "from datasets import load_dataset, Dataset, ClassLabel\n",
    "from sklearn.model_selection import train_test_split\n",
    "import torch\n",
    "from torch import nn\n",
    "from sklearn.metrics import accuracy_score, recall_score, precision_score, f1_score\n",
    "import numpy as np\n",
    "import pandas as pd\n",
    "\n",
    "torch.cuda.empty_cache()"
   ]
  },
  {
   "cell_type": "code",
   "execution_count": 3,
   "metadata": {},
   "outputs": [],
   "source": [
    "df = pd.read_csv('data.csv')"
   ]
  },
  {
   "cell_type": "code",
   "execution_count": 4,
   "metadata": {},
   "outputs": [],
   "source": [
    "train_data, test_data = train_test_split(df, test_size=0.2, random_state=42)\n"
   ]
  },
  {
   "cell_type": "code",
   "execution_count": 5,
   "metadata": {},
   "outputs": [],
   "source": [
    "data_train = Dataset.from_pandas(train_data, preserve_index=False)\n",
    "data_test = Dataset.from_pandas(test_data, preserve_index=False)"
   ]
  },
  {
   "cell_type": "code",
   "execution_count": 6,
   "metadata": {},
   "outputs": [
    {
     "name": "stderr",
     "output_type": "stream",
     "text": [
      "Parameter 'function'=<function tokenize_function at 0x7fe7780a2160> of the transform datasets.arrow_dataset.Dataset._map_single couldn't be hashed properly, a random hash was used instead. Make sure your transforms and parameters are serializable with pickle or dill for the dataset fingerprinting and caching to work. If you reuse this transform, the caching mechanism will consider it to be different from the previous calls and recompute everything. This warning is only showed once. Subsequent hashing failures won't be showed.\n"
     ]
    },
    {
     "data": {
      "application/vnd.jupyter.widget-view+json": {
       "model_id": "18571bd62a404e4e8dcc351cade0228e",
       "version_major": 2,
       "version_minor": 0
      },
      "text/plain": [
       "  0%|          | 0/11 [00:00<?, ?ba/s]"
      ]
     },
     "metadata": {},
     "output_type": "display_data"
    },
    {
     "data": {
      "application/vnd.jupyter.widget-view+json": {
       "model_id": "3c1dde16767d4eaf85af924dbc318745",
       "version_major": 2,
       "version_minor": 0
      },
      "text/plain": [
       "  0%|          | 0/3 [00:00<?, ?ba/s]"
      ]
     },
     "metadata": {},
     "output_type": "display_data"
    }
   ],
   "source": [
    "tokenizer = AutoTokenizer.from_pretrained(model_name)\n",
    "\n",
    "labels = ClassLabel(num_classes=4, names=['Offensive-Ind', 'Not-Offensive', 'Offensive-Group','Offensive-Untargetted'], names_file=None, id=None)\n",
    "\n",
    "def tokenize_function(examples):\n",
    "    tokens =  tokenizer(examples[\"text\"], padding=True, truncation=True, max_length=128)\n",
    "    tokens['label'] = labels.str2int(examples['label'])\n",
    "    return tokens\n",
    "\n",
    "tokenized_train = data_train.map(tokenize_function, batched=True)\n",
    "tokenized_test = data_test.map(tokenize_function, batched=True)\n",
    "\n",
    "tokenized_train.set_format('torch', columns=['input_ids', 'attention_mask', 'label'])\n",
    "tokenized_test.set_format('torch', columns=['input_ids', 'attention_mask', 'label'])"
   ]
  },
  {
   "cell_type": "code",
   "execution_count": 7,
   "metadata": {},
   "outputs": [],
   "source": [
    "data_collator = DataCollatorWithPadding(tokenizer=tokenizer)"
   ]
  },
  {
   "cell_type": "code",
   "execution_count": 8,
   "metadata": {},
   "outputs": [],
   "source": [
    "id2label = {idx:labels.int2str(idx) for idx in range(4)}\n",
    "label2id = {v:k for k,v in id2label.items()}"
   ]
  },
  {
   "cell_type": "code",
   "execution_count": 9,
   "metadata": {},
   "outputs": [],
   "source": [
    "class WeightedLossTrainer(Trainer):\n",
    "    def compute_loss(self, model, inputs, return_outputs=False):\n",
    "        #Feed inputs to model and extract logits\n",
    "        outputs = model(**inputs)\n",
    "        logits = outputs.get(\"logits\")\n",
    "        #Extract labels\n",
    "        labels = inputs.get(\"labels\")\n",
    "        # Define loss function with class weights\n",
    "        loss_func = nn.CrossEntropyLoss()\n",
    "        # Compute loss\n",
    "        loss = loss_func(logits, labels)\n",
    "        return (loss, outputs) if return_outputs else loss "
   ]
  },
  {
   "cell_type": "code",
   "execution_count": 10,
   "metadata": {},
   "outputs": [
    {
     "name": "stderr",
     "output_type": "stream",
     "text": [
      "Some weights of the model checkpoint at google/muril-base-cased were not used when initializing BertForSequenceClassification: ['cls.predictions.decoder.bias', 'cls.predictions.transform.dense.weight', 'cls.predictions.transform.dense.bias', 'cls.predictions.decoder.weight', 'cls.predictions.bias', 'cls.seq_relationship.bias', 'cls.seq_relationship.weight', 'cls.predictions.transform.LayerNorm.bias', 'cls.predictions.transform.LayerNorm.weight']\n",
      "- This IS expected if you are initializing BertForSequenceClassification from the checkpoint of a model trained on another task or with another architecture (e.g. initializing a BertForSequenceClassification model from a BertForPreTraining model).\n",
      "- This IS NOT expected if you are initializing BertForSequenceClassification from the checkpoint of a model that you expect to be exactly identical (initializing a BertForSequenceClassification model from a BertForSequenceClassification model).\n",
      "Some weights of BertForSequenceClassification were not initialized from the model checkpoint at google/muril-base-cased and are newly initialized: ['classifier.bias', 'classifier.weight']\n",
      "You should probably TRAIN this model on a down-stream task to be able to use it for predictions and inference.\n"
     ]
    }
   ],
   "source": [
    "model = AutoModelForSequenceClassification.from_pretrained(model_name,\n",
    "                                                             num_labels=4,\n",
    "                                                             id2label=id2label,\n",
    "                                                             label2id=label2id)"
   ]
  },
  {
   "cell_type": "code",
   "execution_count": 11,
   "metadata": {},
   "outputs": [],
   "source": [
    "def compute_metrics(pred):\n",
    "\n",
    "    labels = pred.label_ids\n",
    "    preds = pred.predictions.argmax(-1)\n",
    "\n",
    "    accuracy = accuracy_score(y_true=labels, y_pred=preds)\n",
    "    recall = recall_score(y_true=labels, y_pred=preds, average='weighted')\n",
    "    precision = precision_score(y_true=labels, y_pred=preds, average='weighted')\n",
    "    f1 = f1_score(y_true=labels, y_pred=preds, average='weighted')\n",
    "\n",
    "    return {\"accuracy\": accuracy, \"precision\": precision, \"recall\": recall, \"f1\": f1}"
   ]
  },
  {
   "cell_type": "code",
   "execution_count": 12,
   "metadata": {},
   "outputs": [],
   "source": [
    "batch_size = 16\n",
    "epochs = 30\n",
    "leaning_rate = 2e-5\n",
    "\n",
    "\n",
    "# Log the training loss at each epoch\n",
    "logging_steps = len(tokenized_train) // batch_size\n",
    "\n",
    "training_args = TrainingArguments(output_dir='MuRIL',\n",
    "                                    num_train_epochs=epochs,\n",
    "                                    learning_rate=leaning_rate,\n",
    "                                    per_device_train_batch_size=batch_size,\n",
    "                                    per_device_eval_batch_size=batch_size,\n",
    "                                    weight_decay=0.01,\n",
    "                                    evaluation_strategy=\"steps\",\n",
    "                                    logging_steps=logging_steps,\n",
    "                                    fp16=True,\n",
    "                                    eval_steps=250,\n",
    "                                    load_best_model_at_end=True)"
   ]
  },
  {
   "cell_type": "code",
   "execution_count": 13,
   "metadata": {},
   "outputs": [
    {
     "name": "stderr",
     "output_type": "stream",
     "text": [
      "Using cuda_amp half precision backend\n"
     ]
    }
   ],
   "source": [
    "trainer = WeightedLossTrainer(\n",
    "    model=model,\n",
    "    args=training_args,\n",
    "    train_dataset=tokenized_train,\n",
    "    eval_dataset=tokenized_test,\n",
    "    compute_metrics=compute_metrics,\n",
    "    tokenizer=tokenizer,\n",
    "    data_collator=data_collator,\n",
    "    callbacks=[EarlyStoppingCallback(early_stopping_patience=5)]\n",
    ")"
   ]
  },
  {
   "cell_type": "code",
   "execution_count": 14,
   "metadata": {},
   "outputs": [],
   "source": [
    "import warnings\n",
    "warnings.filterwarnings('ignore')"
   ]
  },
  {
   "cell_type": "code",
   "execution_count": 15,
   "metadata": {},
   "outputs": [
    {
     "name": "stderr",
     "output_type": "stream",
     "text": [
      "The following columns in the training set don't have a corresponding argument in `BertForSequenceClassification.forward` and have been ignored: text. If text are not expected by `BertForSequenceClassification.forward`,  you can safely ignore this message.\n",
      "***** Running training *****\n",
      "  Num examples = 10088\n",
      "  Num Epochs = 30\n",
      "  Instantaneous batch size per device = 16\n",
      "  Total train batch size (w. parallel, distributed & accumulation) = 32\n",
      "  Gradient Accumulation steps = 1\n",
      "  Total optimization steps = 9480\n"
     ]
    },
    {
     "data": {
      "text/html": [
       "\n",
       "    <div>\n",
       "      \n",
       "      <progress value='4000' max='9480' style='width:300px; height:20px; vertical-align: middle;'></progress>\n",
       "      [4000/9480 15:08 < 20:45, 4.40 it/s, Epoch 12/30]\n",
       "    </div>\n",
       "    <table border=\"1\" class=\"dataframe\">\n",
       "  <thead>\n",
       " <tr style=\"text-align: left;\">\n",
       "      <th>Step</th>\n",
       "      <th>Training Loss</th>\n",
       "      <th>Validation Loss</th>\n",
       "      <th>Accuracy</th>\n",
       "      <th>Precision</th>\n",
       "      <th>Recall</th>\n",
       "      <th>F1</th>\n",
       "    </tr>\n",
       "  </thead>\n",
       "  <tbody>\n",
       "    <tr>\n",
       "      <td>250</td>\n",
       "      <td>No log</td>\n",
       "      <td>0.283344</td>\n",
       "      <td>0.961554</td>\n",
       "      <td>0.924586</td>\n",
       "      <td>0.961554</td>\n",
       "      <td>0.942707</td>\n",
       "    </tr>\n",
       "    <tr>\n",
       "      <td>500</td>\n",
       "      <td>No log</td>\n",
       "      <td>0.205679</td>\n",
       "      <td>0.961554</td>\n",
       "      <td>0.924586</td>\n",
       "      <td>0.961554</td>\n",
       "      <td>0.942707</td>\n",
       "    </tr>\n",
       "    <tr>\n",
       "      <td>750</td>\n",
       "      <td>0.456700</td>\n",
       "      <td>0.205191</td>\n",
       "      <td>0.961554</td>\n",
       "      <td>0.924586</td>\n",
       "      <td>0.961554</td>\n",
       "      <td>0.942707</td>\n",
       "    </tr>\n",
       "    <tr>\n",
       "      <td>1000</td>\n",
       "      <td>0.456700</td>\n",
       "      <td>0.205146</td>\n",
       "      <td>0.961554</td>\n",
       "      <td>0.924586</td>\n",
       "      <td>0.961554</td>\n",
       "      <td>0.942707</td>\n",
       "    </tr>\n",
       "    <tr>\n",
       "      <td>1250</td>\n",
       "      <td>0.456700</td>\n",
       "      <td>0.205458</td>\n",
       "      <td>0.961554</td>\n",
       "      <td>0.924586</td>\n",
       "      <td>0.961554</td>\n",
       "      <td>0.942707</td>\n",
       "    </tr>\n",
       "    <tr>\n",
       "      <td>1500</td>\n",
       "      <td>0.212000</td>\n",
       "      <td>0.205513</td>\n",
       "      <td>0.961554</td>\n",
       "      <td>0.924586</td>\n",
       "      <td>0.961554</td>\n",
       "      <td>0.942707</td>\n",
       "    </tr>\n",
       "    <tr>\n",
       "      <td>1750</td>\n",
       "      <td>0.212000</td>\n",
       "      <td>0.203842</td>\n",
       "      <td>0.961554</td>\n",
       "      <td>0.924586</td>\n",
       "      <td>0.961554</td>\n",
       "      <td>0.942707</td>\n",
       "    </tr>\n",
       "    <tr>\n",
       "      <td>2000</td>\n",
       "      <td>0.210200</td>\n",
       "      <td>0.206399</td>\n",
       "      <td>0.961554</td>\n",
       "      <td>0.924586</td>\n",
       "      <td>0.961554</td>\n",
       "      <td>0.942707</td>\n",
       "    </tr>\n",
       "    <tr>\n",
       "      <td>2250</td>\n",
       "      <td>0.210200</td>\n",
       "      <td>0.198691</td>\n",
       "      <td>0.961554</td>\n",
       "      <td>0.924586</td>\n",
       "      <td>0.961554</td>\n",
       "      <td>0.942707</td>\n",
       "    </tr>\n",
       "    <tr>\n",
       "      <td>2500</td>\n",
       "      <td>0.210200</td>\n",
       "      <td>0.170044</td>\n",
       "      <td>0.961554</td>\n",
       "      <td>0.924586</td>\n",
       "      <td>0.961554</td>\n",
       "      <td>0.942707</td>\n",
       "    </tr>\n",
       "    <tr>\n",
       "      <td>2750</td>\n",
       "      <td>0.199300</td>\n",
       "      <td>0.164211</td>\n",
       "      <td>0.958779</td>\n",
       "      <td>0.934994</td>\n",
       "      <td>0.958779</td>\n",
       "      <td>0.946730</td>\n",
       "    </tr>\n",
       "    <tr>\n",
       "      <td>3000</td>\n",
       "      <td>0.199300</td>\n",
       "      <td>0.183714</td>\n",
       "      <td>0.959968</td>\n",
       "      <td>0.939019</td>\n",
       "      <td>0.959968</td>\n",
       "      <td>0.948542</td>\n",
       "    </tr>\n",
       "    <tr>\n",
       "      <td>3250</td>\n",
       "      <td>0.136200</td>\n",
       "      <td>0.182907</td>\n",
       "      <td>0.954816</td>\n",
       "      <td>0.940367</td>\n",
       "      <td>0.954816</td>\n",
       "      <td>0.947498</td>\n",
       "    </tr>\n",
       "    <tr>\n",
       "      <td>3500</td>\n",
       "      <td>0.136200</td>\n",
       "      <td>0.201088</td>\n",
       "      <td>0.960761</td>\n",
       "      <td>0.936938</td>\n",
       "      <td>0.960761</td>\n",
       "      <td>0.948699</td>\n",
       "    </tr>\n",
       "    <tr>\n",
       "      <td>3750</td>\n",
       "      <td>0.136200</td>\n",
       "      <td>0.205389</td>\n",
       "      <td>0.961554</td>\n",
       "      <td>0.938440</td>\n",
       "      <td>0.961554</td>\n",
       "      <td>0.949852</td>\n",
       "    </tr>\n",
       "    <tr>\n",
       "      <td>4000</td>\n",
       "      <td>0.094500</td>\n",
       "      <td>0.205144</td>\n",
       "      <td>0.959176</td>\n",
       "      <td>0.939927</td>\n",
       "      <td>0.959176</td>\n",
       "      <td>0.949350</td>\n",
       "    </tr>\n",
       "  </tbody>\n",
       "</table><p>"
      ],
      "text/plain": [
       "<IPython.core.display.HTML object>"
      ]
     },
     "metadata": {},
     "output_type": "display_data"
    },
    {
     "name": "stderr",
     "output_type": "stream",
     "text": [
      "The following columns in the evaluation set don't have a corresponding argument in `BertForSequenceClassification.forward` and have been ignored: text. If text are not expected by `BertForSequenceClassification.forward`,  you can safely ignore this message.\n",
      "***** Running Evaluation *****\n",
      "  Num examples = 2523\n",
      "  Batch size = 32\n",
      "The following columns in the evaluation set don't have a corresponding argument in `BertForSequenceClassification.forward` and have been ignored: text. If text are not expected by `BertForSequenceClassification.forward`,  you can safely ignore this message.\n",
      "***** Running Evaluation *****\n",
      "  Num examples = 2523\n",
      "  Batch size = 32\n",
      "Saving model checkpoint to MuRIL/checkpoint-500\n",
      "Configuration saved in MuRIL/checkpoint-500/config.json\n",
      "Model weights saved in MuRIL/checkpoint-500/pytorch_model.bin\n",
      "tokenizer config file saved in MuRIL/checkpoint-500/tokenizer_config.json\n",
      "Special tokens file saved in MuRIL/checkpoint-500/special_tokens_map.json\n",
      "The following columns in the evaluation set don't have a corresponding argument in `BertForSequenceClassification.forward` and have been ignored: text. If text are not expected by `BertForSequenceClassification.forward`,  you can safely ignore this message.\n",
      "***** Running Evaluation *****\n",
      "  Num examples = 2523\n",
      "  Batch size = 32\n",
      "The following columns in the evaluation set don't have a corresponding argument in `BertForSequenceClassification.forward` and have been ignored: text. If text are not expected by `BertForSequenceClassification.forward`,  you can safely ignore this message.\n",
      "***** Running Evaluation *****\n",
      "  Num examples = 2523\n",
      "  Batch size = 32\n",
      "Saving model checkpoint to MuRIL/checkpoint-1000\n",
      "Configuration saved in MuRIL/checkpoint-1000/config.json\n",
      "Model weights saved in MuRIL/checkpoint-1000/pytorch_model.bin\n",
      "tokenizer config file saved in MuRIL/checkpoint-1000/tokenizer_config.json\n",
      "Special tokens file saved in MuRIL/checkpoint-1000/special_tokens_map.json\n",
      "The following columns in the evaluation set don't have a corresponding argument in `BertForSequenceClassification.forward` and have been ignored: text. If text are not expected by `BertForSequenceClassification.forward`,  you can safely ignore this message.\n",
      "***** Running Evaluation *****\n",
      "  Num examples = 2523\n",
      "  Batch size = 32\n",
      "The following columns in the evaluation set don't have a corresponding argument in `BertForSequenceClassification.forward` and have been ignored: text. If text are not expected by `BertForSequenceClassification.forward`,  you can safely ignore this message.\n",
      "***** Running Evaluation *****\n",
      "  Num examples = 2523\n",
      "  Batch size = 32\n",
      "Saving model checkpoint to MuRIL/checkpoint-1500\n",
      "Configuration saved in MuRIL/checkpoint-1500/config.json\n",
      "Model weights saved in MuRIL/checkpoint-1500/pytorch_model.bin\n",
      "tokenizer config file saved in MuRIL/checkpoint-1500/tokenizer_config.json\n",
      "Special tokens file saved in MuRIL/checkpoint-1500/special_tokens_map.json\n",
      "The following columns in the evaluation set don't have a corresponding argument in `BertForSequenceClassification.forward` and have been ignored: text. If text are not expected by `BertForSequenceClassification.forward`,  you can safely ignore this message.\n",
      "***** Running Evaluation *****\n",
      "  Num examples = 2523\n",
      "  Batch size = 32\n",
      "The following columns in the evaluation set don't have a corresponding argument in `BertForSequenceClassification.forward` and have been ignored: text. If text are not expected by `BertForSequenceClassification.forward`,  you can safely ignore this message.\n",
      "***** Running Evaluation *****\n",
      "  Num examples = 2523\n",
      "  Batch size = 32\n",
      "Saving model checkpoint to MuRIL/checkpoint-2000\n",
      "Configuration saved in MuRIL/checkpoint-2000/config.json\n",
      "Model weights saved in MuRIL/checkpoint-2000/pytorch_model.bin\n",
      "tokenizer config file saved in MuRIL/checkpoint-2000/tokenizer_config.json\n",
      "Special tokens file saved in MuRIL/checkpoint-2000/special_tokens_map.json\n",
      "The following columns in the evaluation set don't have a corresponding argument in `BertForSequenceClassification.forward` and have been ignored: text. If text are not expected by `BertForSequenceClassification.forward`,  you can safely ignore this message.\n",
      "***** Running Evaluation *****\n",
      "  Num examples = 2523\n",
      "  Batch size = 32\n",
      "The following columns in the evaluation set don't have a corresponding argument in `BertForSequenceClassification.forward` and have been ignored: text. If text are not expected by `BertForSequenceClassification.forward`,  you can safely ignore this message.\n",
      "***** Running Evaluation *****\n",
      "  Num examples = 2523\n",
      "  Batch size = 32\n",
      "Saving model checkpoint to MuRIL/checkpoint-2500\n",
      "Configuration saved in MuRIL/checkpoint-2500/config.json\n",
      "Model weights saved in MuRIL/checkpoint-2500/pytorch_model.bin\n",
      "tokenizer config file saved in MuRIL/checkpoint-2500/tokenizer_config.json\n",
      "Special tokens file saved in MuRIL/checkpoint-2500/special_tokens_map.json\n",
      "The following columns in the evaluation set don't have a corresponding argument in `BertForSequenceClassification.forward` and have been ignored: text. If text are not expected by `BertForSequenceClassification.forward`,  you can safely ignore this message.\n",
      "***** Running Evaluation *****\n",
      "  Num examples = 2523\n",
      "  Batch size = 32\n",
      "The following columns in the evaluation set don't have a corresponding argument in `BertForSequenceClassification.forward` and have been ignored: text. If text are not expected by `BertForSequenceClassification.forward`,  you can safely ignore this message.\n",
      "***** Running Evaluation *****\n",
      "  Num examples = 2523\n",
      "  Batch size = 32\n",
      "Saving model checkpoint to MuRIL/checkpoint-3000\n",
      "Configuration saved in MuRIL/checkpoint-3000/config.json\n",
      "Model weights saved in MuRIL/checkpoint-3000/pytorch_model.bin\n",
      "tokenizer config file saved in MuRIL/checkpoint-3000/tokenizer_config.json\n",
      "Special tokens file saved in MuRIL/checkpoint-3000/special_tokens_map.json\n",
      "The following columns in the evaluation set don't have a corresponding argument in `BertForSequenceClassification.forward` and have been ignored: text. If text are not expected by `BertForSequenceClassification.forward`,  you can safely ignore this message.\n",
      "***** Running Evaluation *****\n",
      "  Num examples = 2523\n",
      "  Batch size = 32\n",
      "The following columns in the evaluation set don't have a corresponding argument in `BertForSequenceClassification.forward` and have been ignored: text. If text are not expected by `BertForSequenceClassification.forward`,  you can safely ignore this message.\n",
      "***** Running Evaluation *****\n",
      "  Num examples = 2523\n",
      "  Batch size = 32\n",
      "Saving model checkpoint to MuRIL/checkpoint-3500\n",
      "Configuration saved in MuRIL/checkpoint-3500/config.json\n",
      "Model weights saved in MuRIL/checkpoint-3500/pytorch_model.bin\n",
      "tokenizer config file saved in MuRIL/checkpoint-3500/tokenizer_config.json\n",
      "Special tokens file saved in MuRIL/checkpoint-3500/special_tokens_map.json\n",
      "The following columns in the evaluation set don't have a corresponding argument in `BertForSequenceClassification.forward` and have been ignored: text. If text are not expected by `BertForSequenceClassification.forward`,  you can safely ignore this message.\n",
      "***** Running Evaluation *****\n",
      "  Num examples = 2523\n",
      "  Batch size = 32\n",
      "The following columns in the evaluation set don't have a corresponding argument in `BertForSequenceClassification.forward` and have been ignored: text. If text are not expected by `BertForSequenceClassification.forward`,  you can safely ignore this message.\n",
      "***** Running Evaluation *****\n",
      "  Num examples = 2523\n",
      "  Batch size = 32\n",
      "Saving model checkpoint to MuRIL/checkpoint-4000\n",
      "Configuration saved in MuRIL/checkpoint-4000/config.json\n",
      "Model weights saved in MuRIL/checkpoint-4000/pytorch_model.bin\n",
      "tokenizer config file saved in MuRIL/checkpoint-4000/tokenizer_config.json\n",
      "Special tokens file saved in MuRIL/checkpoint-4000/special_tokens_map.json\n",
      "\n",
      "\n",
      "Training completed. Do not forget to share your model on huggingface.co/models =)\n",
      "\n",
      "\n",
      "Loading best model from MuRIL/checkpoint-2500 (score: 0.17004385590553284).\n"
     ]
    },
    {
     "data": {
      "text/plain": [
       "TrainOutput(global_step=4000, training_loss=0.21061759662628174, metrics={'train_runtime': 912.1034, 'train_samples_per_second': 331.804, 'train_steps_per_second': 10.394, 'total_flos': 8400760626905088.0, 'train_loss': 0.21061759662628174, 'epoch': 12.66})"
      ]
     },
     "execution_count": 15,
     "metadata": {},
     "output_type": "execute_result"
    }
   ],
   "source": [
    "trainer.train()"
   ]
  },
  {
   "cell_type": "code",
   "execution_count": 11,
   "metadata": {},
   "outputs": [
    {
     "name": "stderr",
     "output_type": "stream",
     "text": [
      "/home/sudheesh/anaconda3/envs/rubrix/lib/python3.8/site-packages/transformers/pipelines/text_classification.py:89: UserWarning: `return_all_scores` is now deprecated, use `top_k=1` if you want similar functionnality\n",
      "  warnings.warn(\n"
     ]
    },
    {
     "name": "stdout",
     "output_type": "stream",
     "text": [
      "                       precision    recall  f1-score   support\n",
      "\n",
      "        Not-Offensive       0.96      1.00      0.98      2426\n",
      "      Offensive-Group       0.00      0.00      0.00        29\n",
      "        Offensive-Ind       0.00      0.00      0.00        33\n",
      "Offensive-Untargetted       0.00      0.00      0.00        35\n",
      "\n",
      "             accuracy                           0.96      2523\n",
      "            macro avg       0.24      0.25      0.25      2523\n",
      "         weighted avg       0.92      0.96      0.94      2523\n",
      "\n"
     ]
    },
    {
     "name": "stderr",
     "output_type": "stream",
     "text": [
      "/home/sudheesh/anaconda3/envs/rubrix/lib/python3.8/site-packages/sklearn/metrics/_classification.py:1327: UndefinedMetricWarning: Precision and F-score are ill-defined and being set to 0.0 in labels with no predicted samples. Use `zero_division` parameter to control this behavior.\n",
      "  _warn_prf(average, modifier, msg_start, len(result))\n",
      "/home/sudheesh/anaconda3/envs/rubrix/lib/python3.8/site-packages/sklearn/metrics/_classification.py:1327: UndefinedMetricWarning: Precision and F-score are ill-defined and being set to 0.0 in labels with no predicted samples. Use `zero_division` parameter to control this behavior.\n",
      "  _warn_prf(average, modifier, msg_start, len(result))\n",
      "/home/sudheesh/anaconda3/envs/rubrix/lib/python3.8/site-packages/sklearn/metrics/_classification.py:1327: UndefinedMetricWarning: Precision and F-score are ill-defined and being set to 0.0 in labels with no predicted samples. Use `zero_division` parameter to control this behavior.\n",
      "  _warn_prf(average, modifier, msg_start, len(result))\n"
     ]
    }
   ],
   "source": [
    "# from transformers import TextClassificationPipeline, AutoModelForSequenceClassification, AutoTokenizer\n",
    "# from sklearn.metrics import classification_report\n",
    "# import pandas as pd\n",
    "# from sklearn.model_selection import train_test_split\n",
    "# from datasets import  ClassLabel\n",
    "\n",
    "\n",
    "# df = pd.read_csv('data.csv')\n",
    "# train_data, test_data = train_test_split(df, test_size=0.2, random_state=42)\n",
    "\n",
    "model_name = 'MuRIL/checkpoint-2500'\n",
    "tokenizer = AutoTokenizer.from_pretrained(model_name)\n",
    "\n",
    "\n",
    "\n",
    "labels = ClassLabel(num_classes=4, names=['Offensive-Ind', 'Not-Offensive', 'Offensive-Group','Offensive-Untargetted'], names_file=None, id=None)\n",
    "id2label = {idx:labels.int2str(idx) for idx in range(4)}\n",
    "label2id = {v:k for k,v in id2label.items()}\n",
    "\n",
    "model =AutoModelForSequenceClassification.from_pretrained(model_name,num_labels=4,id2label=id2label,label2id=label2id)\n",
    "\n",
    "\n",
    "pipe = TextClassificationPipeline(model=model, tokenizer=tokenizer, return_all_scores=False)\n",
    "y_pred = pipe(test_data['text'].tolist())\n",
    "y_pred = [y_pred[i][\"label\"] for i in range(len(y_pred))]\n",
    "y_true = test_data['label'].tolist()\n",
    "print(classification_report(y_true, y_pred))"
   ]
  }
 ],
 "metadata": {
  "kernelspec": {
   "display_name": "Python 3.8.13 ('rubrix')",
   "language": "python",
   "name": "python3"
  },
  "language_info": {
   "codemirror_mode": {
    "name": "ipython",
    "version": 3
   },
   "file_extension": ".py",
   "mimetype": "text/x-python",
   "name": "python",
   "nbconvert_exporter": "python",
   "pygments_lexer": "ipython3",
   "version": "3.8.13"
  },
  "orig_nbformat": 4,
  "vscode": {
   "interpreter": {
    "hash": "01ecd0fca16fd541386a98af1f1167bd548bb92cdfb21ce13476623cd809977c"
   }
  }
 },
 "nbformat": 4,
 "nbformat_minor": 2
}
