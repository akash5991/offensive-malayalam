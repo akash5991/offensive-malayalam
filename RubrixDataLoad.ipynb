{
 "cells": [
  {
   "cell_type": "code",
   "execution_count": 1,
   "metadata": {},
   "outputs": [],
   "source": [
    "import rubrix as rb\n",
    "import pandas as pd\n",
    "\n",
    "# Create a basic text classification record\n",
    "#record = rb.TextClassificationRecord(text=\"Hello world, this is me!\")\n",
    "\n",
    "# Upload (log) the record to the Rubrix web app\n",
    "#rb.log(record, \"my_first_record\")"
   ]
  },
  {
   "cell_type": "code",
   "execution_count": 3,
   "metadata": {},
   "outputs": [],
   "source": [
    "mydf = pd.read_csv('../OffensiveTweets1.csv')"
   ]
  },
  {
   "cell_type": "code",
   "execution_count": 4,
   "metadata": {},
   "outputs": [
    {
     "data": {
      "text/plain": [
       "0"
      ]
     },
     "execution_count": 4,
     "metadata": {},
     "output_type": "execute_result"
    }
   ],
   "source": [
    "sum(mydf.duplicated())"
   ]
  },
  {
   "cell_type": "code",
   "execution_count": 5,
   "metadata": {},
   "outputs": [],
   "source": [
    "mydf = mydf.rename(columns={\"tweet\": \"text\"})"
   ]
  },
  {
   "cell_type": "code",
   "execution_count": 9,
   "metadata": {},
   "outputs": [],
   "source": [
    "# Read DataFrame into a Rubrix Dataset\n",
    "offensiveData = rb.read_pandas(mydf, task=\"TextClassification\")"
   ]
  },
  {
   "cell_type": "code",
   "execution_count": 11,
   "metadata": {},
   "outputs": [
    {
     "data": {
      "application/vnd.jupyter.widget-view+json": {
       "model_id": "6ffa439b4b154b61ad2bbd02bf1487ff",
       "version_major": 2,
       "version_minor": 0
      },
      "text/plain": [
       "  0%|          | 0/45033 [00:00<?, ?it/s]"
      ]
     },
     "metadata": {},
     "output_type": "display_data"
    },
    {
     "name": "stdout",
     "output_type": "stream",
     "text": [
      "45033 records logged to http://localhost:6900/datasets/rubrix/project-weaklabel\n"
     ]
    },
    {
     "data": {
      "text/plain": [
       "BulkResponse(dataset='project-weaklabel', processed=45033, failed=0)"
      ]
     },
     "execution_count": 11,
     "metadata": {},
     "output_type": "execute_result"
    }
   ],
   "source": [
    "rb.log(offensiveData, \"project-weaklabel\")"
   ]
  },
  {
   "cell_type": "code",
   "execution_count": 17,
   "metadata": {},
   "outputs": [
    {
     "data": {
      "application/vnd.jupyter.widget-view+json": {
       "model_id": "69ef297ee8744359a9482c6e2d3d8a9c",
       "version_major": 2,
       "version_minor": 0
      },
      "text/plain": [
       "Preparing rules:   0%|          | 0/11 [00:00<?, ?it/s]"
      ]
     },
     "metadata": {},
     "output_type": "display_data"
    },
    {
     "data": {
      "application/vnd.jupyter.widget-view+json": {
       "model_id": "9b8a04abeedf4225acce11701547632f",
       "version_major": 2,
       "version_minor": 0
      },
      "text/plain": [
       "Applying rules:   0%|          | 0/45033 [00:00<?, ?it/s]"
      ]
     },
     "metadata": {},
     "output_type": "display_data"
    }
   ],
   "source": [
    "from rubrix.labeling.text_classification.weak_labels import  WeakLabels\n",
    "weak_labels = WeakLabels(dataset=\"project-weaklabel\")"
   ]
  },
  {
   "cell_type": "code",
   "execution_count": 37,
   "metadata": {},
   "outputs": [
    {
     "data": {
      "text/html": [
       "<div>\n",
       "<style scoped>\n",
       "    .dataframe tbody tr th:only-of-type {\n",
       "        vertical-align: middle;\n",
       "    }\n",
       "\n",
       "    .dataframe tbody tr th {\n",
       "        vertical-align: top;\n",
       "    }\n",
       "\n",
       "    .dataframe thead th {\n",
       "        text-align: right;\n",
       "    }\n",
       "</style>\n",
       "<table border=\"1\" class=\"dataframe\">\n",
       "  <thead>\n",
       "    <tr style=\"text-align: right;\">\n",
       "      <th></th>\n",
       "      <th>text</th>\n",
       "      <th>weaklabel</th>\n",
       "    </tr>\n",
       "  </thead>\n",
       "  <tbody>\n",
       "    <tr>\n",
       "      <th>0</th>\n",
       "      <td>Revolution Is Homegrown. Always.   എന്ന് വാരിയ...</td>\n",
       "      <td>Offensive-Group</td>\n",
       "    </tr>\n",
       "    <tr>\n",
       "      <th>1</th>\n",
       "      <td>വെള്ളപ്പൊക്കത്തിന് ഇടയ്ക്കു നോർത്തികളെ കാണിക്ക...</td>\n",
       "      <td>Offensive-Group</td>\n",
       "    </tr>\n",
       "    <tr>\n",
       "      <th>2</th>\n",
       "      <td>Babri is a കുണ്ടൻ</td>\n",
       "      <td>Offensive-Group</td>\n",
       "    </tr>\n",
       "    <tr>\n",
       "      <th>3</th>\n",
       "      <td>ഒരു കുണ്ടൻ ലുക്ക്</td>\n",
       "      <td>Offensive-Group</td>\n",
       "    </tr>\n",
       "    <tr>\n",
       "      <th>4</th>\n",
       "      <td>വല്ലാത്ത നേരകം ആണ് ഉസ്താതെ... ഒരു ചോദ്യം കുണ്...</td>\n",
       "      <td>Offensive-Group</td>\n",
       "    </tr>\n",
       "  </tbody>\n",
       "</table>\n",
       "</div>"
      ],
      "text/plain": [
       "                                                text        weaklabel\n",
       "0  Revolution Is Homegrown. Always.   എന്ന് വാരിയ...  Offensive-Group\n",
       "1  വെള്ളപ്പൊക്കത്തിന് ഇടയ്ക്കു നോർത്തികളെ കാണിക്ക...  Offensive-Group\n",
       "2                                  Babri is a കുണ്ടൻ  Offensive-Group\n",
       "3                                  ഒരു കുണ്ടൻ ലുക്ക്  Offensive-Group\n",
       "4   വല്ലാത്ത നേരകം ആണ് ഉസ്താതെ... ഒരു ചോദ്യം കുണ്...  Offensive-Group"
      ]
     },
     "execution_count": 37,
     "metadata": {},
     "output_type": "execute_result"
    }
   ],
   "source": [
    "\n",
    "groupoff = weak_labels.show_records(labels=['Offensive-Group'])[['text']]\n",
    "groupoff['weaklabel'] = 'Offensive-Group'\n",
    "\n",
    "indoff = weak_labels.show_records(labels=['Offensive-Ind'])[['text']]\n",
    "indoff['weaklabel'] = 'Offensive-Ind'\n",
    "\n",
    "untaroff = weak_labels.show_records(labels=['Offensive-Untargetted'])[['text']]\n",
    "untaroff['weaklabel'] = 'Offensive-Untargetted'\n",
    "\n",
    "unoff = weak_labels.show_records(labels=['Not-Offensive'])[['text']]\n",
    "unoff['weaklabel'] = 'Not-Offensive'\n",
    "\n",
    "weakdf = pd.concat([groupoff, indoff, untaroff, unoff], ignore_index=True)\n",
    "weakdf.head()"
   ]
  },
  {
   "cell_type": "code",
   "execution_count": 48,
   "metadata": {},
   "outputs": [],
   "source": [
    "weakdf['text'] = weakdf['text'].drop_duplicates(keep = 'first' )"
   ]
  },
  {
   "cell_type": "code",
   "execution_count": 49,
   "metadata": {},
   "outputs": [
    {
     "data": {
      "text/plain": [
       "Offensive-Ind            8185\n",
       "Offensive-Group          1004\n",
       "Offensive-Untargetted      53\n",
       "Not-Offensive              37\n",
       "Name: weaklabel, dtype: int64"
      ]
     },
     "execution_count": 49,
     "metadata": {},
     "output_type": "execute_result"
    }
   ],
   "source": [
    "weakdf.weaklabel.value_counts()"
   ]
  },
  {
   "cell_type": "code",
   "execution_count": 52,
   "metadata": {},
   "outputs": [],
   "source": [
    "from sklearn.utils import shuffle\n",
    "\n",
    "weakdf = shuffle(weakdf, random_state= 44)"
   ]
  },
  {
   "cell_type": "code",
   "execution_count": 53,
   "metadata": {},
   "outputs": [
    {
     "data": {
      "text/html": [
       "<div>\n",
       "<style scoped>\n",
       "    .dataframe tbody tr th:only-of-type {\n",
       "        vertical-align: middle;\n",
       "    }\n",
       "\n",
       "    .dataframe tbody tr th {\n",
       "        vertical-align: top;\n",
       "    }\n",
       "\n",
       "    .dataframe thead th {\n",
       "        text-align: right;\n",
       "    }\n",
       "</style>\n",
       "<table border=\"1\" class=\"dataframe\">\n",
       "  <thead>\n",
       "    <tr style=\"text-align: right;\">\n",
       "      <th></th>\n",
       "      <th>text</th>\n",
       "      <th>weaklabel</th>\n",
       "    </tr>\n",
       "  </thead>\n",
       "  <tbody>\n",
       "    <tr>\n",
       "      <th>1642</th>\n",
       "      <td>നീ ഊമ്പി ഉണ്ടാക്കിയതാണോ.. മിടുക്കനാണല്ലോ</td>\n",
       "      <td>Offensive-Ind</td>\n",
       "    </tr>\n",
       "    <tr>\n",
       "      <th>4334</th>\n",
       "      <td>ചുരുക്കിപ്പറഞ്ഞാൽ നരേന്ദ്ര മോഡിയോട് 'നിന്റെ തന...</td>\n",
       "      <td>Offensive-Ind</td>\n",
       "    </tr>\n",
       "    <tr>\n",
       "      <th>14</th>\n",
       "      <td>ഇത് പാണക്കാട് ഷിഹാബു തങ്ങളുടെ മോന്റെ കുണ്ടൻ....</td>\n",
       "      <td>Offensive-Group</td>\n",
       "    </tr>\n",
       "    <tr>\n",
       "      <th>6972</th>\n",
       "      <td>നീ ഏതപ്പീ ?  പൂണൂല്‍ കണ്ടിട്ടു മനസിലായില്ലെട ജ...</td>\n",
       "      <td>Offensive-Ind</td>\n",
       "    </tr>\n",
       "    <tr>\n",
       "      <th>8500</th>\n",
       "      <td>നിന്റെ വകയിൽ ഉള്ള തന്ത , o...</td>\n",
       "      <td>Offensive-Ind</td>\n",
       "    </tr>\n",
       "  </tbody>\n",
       "</table>\n",
       "</div>"
      ],
      "text/plain": [
       "                                                   text        weaklabel\n",
       "1642           നീ ഊമ്പി ഉണ്ടാക്കിയതാണോ.. മിടുക്കനാണല്ലോ    Offensive-Ind\n",
       "4334  ചുരുക്കിപ്പറഞ്ഞാൽ നരേന്ദ്ര മോഡിയോട് 'നിന്റെ തന...    Offensive-Ind\n",
       "14      ഇത് പാണക്കാട് ഷിഹാബു തങ്ങളുടെ മോന്റെ കുണ്ടൻ....  Offensive-Group\n",
       "6972  നീ ഏതപ്പീ ?  പൂണൂല്‍ കണ്ടിട്ടു മനസിലായില്ലെട ജ...    Offensive-Ind\n",
       "8500                      നിന്റെ വകയിൽ ഉള്ള തന്ത , o...    Offensive-Ind"
      ]
     },
     "execution_count": 53,
     "metadata": {},
     "output_type": "execute_result"
    }
   ],
   "source": [
    "weakdf.head()"
   ]
  },
  {
   "cell_type": "code",
   "execution_count": null,
   "metadata": {},
   "outputs": [],
   "source": [
    "weakdf.to_csv('WeakLabeled.csv', index =False)"
   ]
  },
  {
   "cell_type": "code",
   "execution_count": 3,
   "metadata": {},
   "outputs": [],
   "source": [
    "\n",
    "df = pd.read_csv('../WeakLabelled/WeakLabeled.csv')"
   ]
  },
  {
   "cell_type": "code",
   "execution_count": 4,
   "metadata": {},
   "outputs": [
    {
     "data": {
      "text/html": [
       "<div>\n",
       "<style scoped>\n",
       "    .dataframe tbody tr th:only-of-type {\n",
       "        vertical-align: middle;\n",
       "    }\n",
       "\n",
       "    .dataframe tbody tr th {\n",
       "        vertical-align: top;\n",
       "    }\n",
       "\n",
       "    .dataframe thead th {\n",
       "        text-align: right;\n",
       "    }\n",
       "</style>\n",
       "<table border=\"1\" class=\"dataframe\">\n",
       "  <thead>\n",
       "    <tr style=\"text-align: right;\">\n",
       "      <th></th>\n",
       "      <th>text</th>\n",
       "      <th>weaklabel</th>\n",
       "    </tr>\n",
       "  </thead>\n",
       "  <tbody>\n",
       "    <tr>\n",
       "      <th>0</th>\n",
       "      <td>\"കൊക്കിലൊതുങ്ങുന്നതേ കൊത്താവൂ\" ഒക്കെ ഏതെങ്കിലു...</td>\n",
       "      <td>Offensive-Ind</td>\n",
       "    </tr>\n",
       "    <tr>\n",
       "      <th>1</th>\n",
       "      <td>ഞാനും മൈരൻ മമ്മദും അതിന് നിന്റെ വെടിച്ചി തള്...</td>\n",
       "      <td>Offensive-Ind</td>\n",
       "    </tr>\n",
       "    <tr>\n",
       "      <th>2</th>\n",
       "      <td>ആൻഡ് ഒട്ടമെന്റി ഈസ് എ മൈരൻ</td>\n",
       "      <td>Offensive-Ind</td>\n",
       "    </tr>\n",
       "    <tr>\n",
       "      <th>3</th>\n",
       "      <td>എത്ര നാളായി ഈ അവരാധി എന്നെ ബ്ലോക്ക് ചെയ്തിട്ട്...</td>\n",
       "      <td>Offensive-Ind</td>\n",
       "    </tr>\n",
       "    <tr>\n",
       "      <th>4</th>\n",
       "      <td>ഒന്നും പറയണ്ട,,,മുഴു നടന്റെ പടത്തെ അഭിപ്രായം ...</td>\n",
       "      <td>Offensive-Ind</td>\n",
       "    </tr>\n",
       "  </tbody>\n",
       "</table>\n",
       "</div>"
      ],
      "text/plain": [
       "                                                text      weaklabel\n",
       "0  \"കൊക്കിലൊതുങ്ങുന്നതേ കൊത്താവൂ\" ഒക്കെ ഏതെങ്കിലു...  Offensive-Ind\n",
       "1    ഞാനും മൈരൻ മമ്മദും അതിന് നിന്റെ വെടിച്ചി തള്...  Offensive-Ind\n",
       "2                         ആൻഡ് ഒട്ടമെന്റി ഈസ് എ മൈരൻ  Offensive-Ind\n",
       "3  എത്ര നാളായി ഈ അവരാധി എന്നെ ബ്ലോക്ക് ചെയ്തിട്ട്...  Offensive-Ind\n",
       "4   ഒന്നും പറയണ്ട,,,മുഴു നടന്റെ പടത്തെ അഭിപ്രായം ...  Offensive-Ind"
      ]
     },
     "execution_count": 4,
     "metadata": {},
     "output_type": "execute_result"
    }
   ],
   "source": [
    "df.head()\n"
   ]
  },
  {
   "cell_type": "code",
   "execution_count": 5,
   "metadata": {},
   "outputs": [
    {
     "data": {
      "text/plain": [
       "Offensive-Ind            7353\n",
       "Offensive-Group          1514\n",
       "Offensive-Untargetted     500\n",
       "Not-Offensive              37\n",
       "Name: weaklabel, dtype: int64"
      ]
     },
     "execution_count": 5,
     "metadata": {},
     "output_type": "execute_result"
    }
   ],
   "source": [
    "df['weaklabel'].value_counts()"
   ]
  },
  {
   "cell_type": "code",
   "execution_count": null,
   "metadata": {},
   "outputs": [],
   "source": []
  },
  {
   "cell_type": "code",
   "execution_count": null,
   "metadata": {},
   "outputs": [],
   "source": []
  },
  {
   "cell_type": "code",
   "execution_count": null,
   "metadata": {},
   "outputs": [],
   "source": []
  },
  {
   "cell_type": "code",
   "execution_count": null,
   "metadata": {},
   "outputs": [],
   "source": []
  },
  {
   "cell_type": "code",
   "execution_count": 35,
   "metadata": {},
   "outputs": [],
   "source": [
    "import re\n",
    "def engcheck(x):\n",
    "    check =  re.compile(r'.*[a-zA-Z]+.*')\n",
    "    if check.match(x):\n",
    "        return \"english\"\n",
    "    else:\n",
    "        return \"malayalam\""
   ]
  },
  {
   "cell_type": "code",
   "execution_count": 36,
   "metadata": {},
   "outputs": [],
   "source": [
    "mydf['isalpha'] = mydf['text'].map(engcheck)"
   ]
  },
  {
   "cell_type": "code",
   "execution_count": 38,
   "metadata": {},
   "outputs": [
    {
     "data": {
      "text/plain": [
       "malayalam    37491\n",
       "english       9141\n",
       "Name: isalpha, dtype: int64"
      ]
     },
     "execution_count": 38,
     "metadata": {},
     "output_type": "execute_result"
    }
   ],
   "source": [
    "mydf.isalpha.value_counts()"
   ]
  },
  {
   "cell_type": "code",
   "execution_count": 41,
   "metadata": {},
   "outputs": [
    {
     "data": {
      "text/html": [
       "<div>\n",
       "<style scoped>\n",
       "    .dataframe tbody tr th:only-of-type {\n",
       "        vertical-align: middle;\n",
       "    }\n",
       "\n",
       "    .dataframe tbody tr th {\n",
       "        vertical-align: top;\n",
       "    }\n",
       "\n",
       "    .dataframe thead th {\n",
       "        text-align: right;\n",
       "    }\n",
       "</style>\n",
       "<table border=\"1\" class=\"dataframe\">\n",
       "  <thead>\n",
       "    <tr style=\"text-align: right;\">\n",
       "      <th></th>\n",
       "      <th>text</th>\n",
       "      <th>isalpha</th>\n",
       "    </tr>\n",
       "  </thead>\n",
       "  <tbody>\n",
       "    <tr>\n",
       "      <th>3</th>\n",
       "      <td>പിഴച്ചു പെറ്റ മറിയത്തിന്റെ കഥ പറഞ്ഞുകൊടുത്ത അമ്മയോട് ജോൺ ചോദിച്ചു  ആരാ അമ്മേ എന്റെ തന്ത, അമ്മ പറഞ്ഞു Still looking for it.  അതെ അമ്മയുടെ വാക്കും ഉരുവിട്ട്കൊണ്ട് അവൻ ഇപ്പോഴും തിരയുകയാണ് 🤷‍♂️</td>\n",
       "      <td>english</td>\n",
       "    </tr>\n",
       "    <tr>\n",
       "      <th>5</th>\n",
       "      <td>ഞാ കാര് തി എന്നെ കൽ യാനo കഴി ക് ന് ആയി ര് കും എന്ന് ഞാ കൊച്ച് അല്ലേ ഞാ പേടി ച് പോയി ട്ട് എങ്ങണ്ട് ഞാ ബ്ലോക്ക് ചെയതെ ano പക്ഷേ ആ അളിയാ നെ ഞാ tl പോലു കണ്ട് ട്ട് പോലു ഇല്ല്യാ എന്നിട്ട് ആ നാറി റൗഡി കുഞ്ഞ് നെ പറ്റി ട്വീറ്റ് ഇട്ടേ ഞാ comt ഇട്ട് ട്ട് ഒര് day കഴി ഞ്ട്ട് reply തന്ന് elly</td>\n",
       "      <td>english</td>\n",
       "    </tr>\n",
       "    <tr>\n",
       "      <th>27</th>\n",
       "      <td>Kurach thendis njagalde veednte frontiludE poonnind, innik avre all Kann edutha kandauunda athream virthi കേട്ട തെണ്ടികൾ annu, ഇന്ന് ippo ദേ, njan purath irrikumbo നാണം ഇല്ലാതെ vayanoki പോൺ, ചെറ്റ പന്നിസ്</td>\n",
       "      <td>english</td>\n",
       "    </tr>\n",
       "    <tr>\n",
       "      <th>42</th>\n",
       "      <td>A real threat to humanity. A polayadi monodu enthu paranjittum karayam illa. Let karma save him.</td>\n",
       "      <td>english</td>\n",
       "    </tr>\n",
       "    <tr>\n",
       "      <th>49</th>\n",
       "      <td>നിന്റെ തന്ത തള്ളയെ  party ആപ്പീസിലെ ചകക്കാൾ കേറി പണിയുമ്പോൾ നിലത്തു കിടന്ന് മോങ്ങുന്ന   അതെ ഭാവം 🤭🤭🤭</td>\n",
       "      <td>english</td>\n",
       "    </tr>\n",
       "    <tr>\n",
       "      <th>...</th>\n",
       "      <td>...</td>\n",
       "      <td>...</td>\n",
       "    </tr>\n",
       "    <tr>\n",
       "      <th>46612</th>\n",
       "      <td>തൊട്ടാവാടി പെണ്ണാണെന്ന് കരുതി കാട്ടുകോഴി ടിയെമ്മില്‍ തൊട്ടാല്‍ വാടുമോ ഡാര്‍ലിംഗ്?? :P തൊട്ടു:ഇല്ലെടാ തെണ്ടി,തൊട്ടാലെണീക്കും.. :D</td>\n",
       "      <td>english</td>\n",
       "    </tr>\n",
       "    <tr>\n",
       "      <th>46617</th>\n",
       "      <td>അച്ഛമ്മ - ടാ, ഇവർ ഈ പറയുന്നതൊക്കെ നേരാണോ?  കുഞ്ഞുട്ടൻ - ഏഹ് ?എന്താ ? ആരാ ഇവരൊക്കെ? (യാതൊരു പരിചയവും ഇല്ലാത്ത ഭാവത്തിൽ)  ഷണ്മുഖൻ - ഞാൻ നിന്റെ തന്ത, ഇവരൊക്കെ നിന്റെ മറ്റ് തന്തമാർ.   #മേഘം  ഹനീഫക്ക പോയിട്ട് 9 വർഷങ്ങൾ ആയെന്നു വിശ്വസിക്കാൻ പ്രയാസം.  Most lovable actor of our times. 💕</td>\n",
       "      <td>english</td>\n",
       "    </tr>\n",
       "    <tr>\n",
       "      <th>46619</th>\n",
       "      <td>UDF നെതിരെ ആയിരുന്നു ഞങ്ങളുടെ ബാർ സമരം എന്ന് ബിജയാ രാഗവാടാൻ സർ...😂😂  കേരളീയരായ നാം കഴിക്കുന്നത് മനുഷ്യ ഭക്ഷണം ആണോ,  കഴുത പുല്ല് ആയിരിന്നില്ലേ എന്നാണ്.😏  തന്ത ആരെന്നു ചോദിച്ചാൽ കൂടെ കാണുന്നവനെ ചൂണ്ടി കാണിക്കുന്നവനെ എന്ത് ചെയ്യണം എന്നു കൊച്ചു പാലാ കാണിച്ചു കൊടുത്തിട്ടുണ്ട്. 😂😂</td>\n",
       "      <td>english</td>\n",
       "    </tr>\n",
       "    <tr>\n",
       "      <th>46624</th>\n",
       "      <td>ഇറങ്ങി പോടാ തെണ്ടി ജാഥവെ #RemoveJadhav</td>\n",
       "      <td>english</td>\n",
       "    </tr>\n",
       "    <tr>\n",
       "      <th>46630</th>\n",
       "      <td>protest ചെയ്തതിനു ഒരു വീട് പൊളിച്ചടുക്കി എന്നൊക്കെ പറഞ്ഞാല് എന്തു മൈരൻ ന്യായം ആണ്?</td>\n",
       "      <td>english</td>\n",
       "    </tr>\n",
       "  </tbody>\n",
       "</table>\n",
       "<p>9141 rows × 2 columns</p>\n",
       "</div>"
      ],
      "text/plain": [
       "                                                                                                                                                                                                                                                                                            text  \\\n",
       "3                                                                                                പിഴച്ചു പെറ്റ മറിയത്തിന്റെ കഥ പറഞ്ഞുകൊടുത്ത അമ്മയോട് ജോൺ ചോദിച്ചു  ആരാ അമ്മേ എന്റെ തന്ത, അമ്മ പറഞ്ഞു Still looking for it.  അതെ അമ്മയുടെ വാക്കും ഉരുവിട്ട്കൊണ്ട് അവൻ ഇപ്പോഴും തിരയുകയാണ് 🤷‍♂️     \n",
       "5        ഞാ കാര് തി എന്നെ കൽ യാനo കഴി ക് ന് ആയി ര് കും എന്ന് ഞാ കൊച്ച് അല്ലേ ഞാ പേടി ച് പോയി ട്ട് എങ്ങണ്ട് ഞാ ബ്ലോക്ക് ചെയതെ ano പക്ഷേ ആ അളിയാ നെ ഞാ tl പോലു കണ്ട് ട്ട് പോലു ഇല്ല്യാ എന്നിട്ട് ആ നാറി റൗഡി കുഞ്ഞ് നെ പറ്റി ട്വീറ്റ് ഇട്ടേ ഞാ comt ഇട്ട് ട്ട് ഒര് day കഴി ഞ്ട്ട് reply തന്ന് elly   \n",
       "27                                                                                  Kurach thendis njagalde veednte frontiludE poonnind, innik avre all Kann edutha kandauunda athream virthi കേട്ട തെണ്ടികൾ annu, ഇന്ന് ippo ദേ, njan purath irrikumbo നാണം ഇല്ലാതെ vayanoki പോൺ, ചെറ്റ പന്നിസ്   \n",
       "42                                                                                                                                                                                              A real threat to humanity. A polayadi monodu enthu paranjittum karayam illa. Let karma save him.   \n",
       "49                                                                                                                                                                                          നിന്റെ തന്ത തള്ളയെ  party ആപ്പീസിലെ ചകക്കാൾ കേറി പണിയുമ്പോൾ നിലത്തു കിടന്ന് മോങ്ങുന്ന   അതെ ഭാവം 🤭🤭🤭   \n",
       "...                                                                                                                                                                                                                                                                                          ...   \n",
       "46612                                                                                                                                                           തൊട്ടാവാടി പെണ്ണാണെന്ന് കരുതി കാട്ടുകോഴി ടിയെമ്മില്‍ തൊട്ടാല്‍ വാടുമോ ഡാര്‍ലിംഗ്?? :P തൊട്ടു:ഇല്ലെടാ തെണ്ടി,തൊട്ടാലെണീക്കും.. :D   \n",
       "46617  അച്ഛമ്മ - ടാ, ഇവർ ഈ പറയുന്നതൊക്കെ നേരാണോ?  കുഞ്ഞുട്ടൻ - ഏഹ് ?എന്താ ? ആരാ ഇവരൊക്കെ? (യാതൊരു പരിചയവും ഇല്ലാത്ത ഭാവത്തിൽ)  ഷണ്മുഖൻ - ഞാൻ നിന്റെ തന്ത, ഇവരൊക്കെ നിന്റെ മറ്റ് തന്തമാർ.   #മേഘം  ഹനീഫക്ക പോയിട്ട് 9 വർഷങ്ങൾ ആയെന്നു വിശ്വസിക്കാൻ പ്രയാസം.  Most lovable actor of our times. 💕     \n",
       "46619        UDF നെതിരെ ആയിരുന്നു ഞങ്ങളുടെ ബാർ സമരം എന്ന് ബിജയാ രാഗവാടാൻ സർ...😂😂  കേരളീയരായ നാം കഴിക്കുന്നത് മനുഷ്യ ഭക്ഷണം ആണോ,  കഴുത പുല്ല് ആയിരിന്നില്ലേ എന്നാണ്.😏  തന്ത ആരെന്നു ചോദിച്ചാൽ കൂടെ കാണുന്നവനെ ചൂണ്ടി കാണിക്കുന്നവനെ എന്ത് ചെയ്യണം എന്നു കൊച്ചു പാലാ കാണിച്ചു കൊടുത്തിട്ടുണ്ട്. 😂😂   \n",
       "46624                                                                                                                                                                                                                                                     ഇറങ്ങി പോടാ തെണ്ടി ജാഥവെ #RemoveJadhav   \n",
       "46630                                                                                                                                                                                                         protest ചെയ്തതിനു ഒരു വീട് പൊളിച്ചടുക്കി എന്നൊക്കെ പറഞ്ഞാല് എന്തു മൈരൻ ന്യായം ആണ്?   \n",
       "\n",
       "       isalpha  \n",
       "3      english  \n",
       "5      english  \n",
       "27     english  \n",
       "42     english  \n",
       "49     english  \n",
       "...        ...  \n",
       "46612  english  \n",
       "46617  english  \n",
       "46619  english  \n",
       "46624  english  \n",
       "46630  english  \n",
       "\n",
       "[9141 rows x 2 columns]"
      ]
     },
     "execution_count": 41,
     "metadata": {},
     "output_type": "execute_result"
    }
   ],
   "source": [
    "pd.options.display.max_colwidth = 675\n",
    "mydf[mydf['isalpha']=='english']"
   ]
  },
  {
   "cell_type": "code",
   "execution_count": 28,
   "metadata": {},
   "outputs": [
    {
     "name": "stdout",
     "output_type": "stream",
     "text": [
      "<re.Match object; span=(0, 3), match='Edi'>\n"
     ]
    }
   ],
   "source": [
    "a = \"Edi malare നായിൻ്റെ mole chetta നാറി ente art thott കളിച്ചാൽ undalodi naari panna errape ninte മുന്നിലെ രണ്ട് pall kannuledi thendi myre\"\n",
    "\n",
    "check =  re.compile(r'[a-zA-Z]*')\n",
    "\n",
    "print(check.match(a))"
   ]
  }
 ],
 "metadata": {
  "kernelspec": {
   "display_name": "Python 3.8.13 ('rubrix')",
   "language": "python",
   "name": "python3"
  },
  "language_info": {
   "codemirror_mode": {
    "name": "ipython",
    "version": 3
   },
   "file_extension": ".py",
   "mimetype": "text/x-python",
   "name": "python",
   "nbconvert_exporter": "python",
   "pygments_lexer": "ipython3",
   "version": "3.8.13"
  },
  "orig_nbformat": 4,
  "vscode": {
   "interpreter": {
    "hash": "01ecd0fca16fd541386a98af1f1167bd548bb92cdfb21ce13476623cd809977c"
   }
  }
 },
 "nbformat": 4,
 "nbformat_minor": 2
}
