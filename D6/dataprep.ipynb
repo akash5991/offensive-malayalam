{
 "cells": [
  {
   "cell_type": "code",
   "execution_count": 1,
   "metadata": {},
   "outputs": [],
   "source": [
    "import pandas as pd"
   ]
  },
  {
   "cell_type": "code",
   "execution_count": 2,
   "metadata": {},
   "outputs": [],
   "source": [
    "df1= pd.read_csv('Balanced.csv')\n",
    "df2= pd.read_excel('Merged.xlsx')"
   ]
  },
  {
   "cell_type": "code",
   "execution_count": 6,
   "metadata": {},
   "outputs": [
    {
     "data": {
      "text/html": [
       "<div>\n",
       "<style scoped>\n",
       "    .dataframe tbody tr th:only-of-type {\n",
       "        vertical-align: middle;\n",
       "    }\n",
       "\n",
       "    .dataframe tbody tr th {\n",
       "        vertical-align: top;\n",
       "    }\n",
       "\n",
       "    .dataframe thead th {\n",
       "        text-align: right;\n",
       "    }\n",
       "</style>\n",
       "<table border=\"1\" class=\"dataframe\">\n",
       "  <thead>\n",
       "    <tr style=\"text-align: right;\">\n",
       "      <th></th>\n",
       "      <th>text</th>\n",
       "      <th>weaklabel</th>\n",
       "    </tr>\n",
       "  </thead>\n",
       "  <tbody>\n",
       "    <tr>\n",
       "      <th>0</th>\n",
       "      <td>തായോളി.. എന്ന് നിന്നെ വിളിക്കുന്നത് കുറവാണ്.....</td>\n",
       "      <td>Offensive-Ind</td>\n",
       "    </tr>\n",
       "    <tr>\n",
       "      <th>1</th>\n",
       "      <td>അങ്ങനെ ട്വിറ്റെറിലേക്ക് ഒരു മൈരൻ കൂടി വന്നിരിക...</td>\n",
       "      <td>Offensive-Ind</td>\n",
       "    </tr>\n",
       "    <tr>\n",
       "      <th>2</th>\n",
       "      <td>അതോ ശ്രീ കുണ്ടൻ എന്നോ🤔 ഏതാണ് മെച്ചം.</td>\n",
       "      <td>Offensive-Group</td>\n",
       "    </tr>\n",
       "    <tr>\n",
       "      <th>3</th>\n",
       "      <td>ചില തെണ്ടികൾ അങ്ങനാ 😏😏</td>\n",
       "      <td>Offensive-Untargetted</td>\n",
       "    </tr>\n",
       "    <tr>\n",
       "      <th>4</th>\n",
       "      <td>നീ ഒരു മൈരൻ ആണ്</td>\n",
       "      <td>Offensive-Ind</td>\n",
       "    </tr>\n",
       "    <tr>\n",
       "      <th>...</th>\n",
       "      <td>...</td>\n",
       "      <td>...</td>\n",
       "    </tr>\n",
       "    <tr>\n",
       "      <th>9395</th>\n",
       "      <td>ഇങ്ങനത്തെ മൂഞ്ചി തൊലിഞ്ഞ രാത്രികളിലാണ് എനിക്ക്...</td>\n",
       "      <td>Not-Offensive</td>\n",
       "    </tr>\n",
       "    <tr>\n",
       "      <th>9396</th>\n",
       "      <td>ഈ കൊച്ചു മൈരൻ കിട്ടിയ അവസരത്തിൽ വെറുതെ താളം പി...</td>\n",
       "      <td>Offensive-Ind</td>\n",
       "    </tr>\n",
       "    <tr>\n",
       "      <th>9397</th>\n",
       "      <td>നിന്റെ തന്ത യോട് പറ നായിന്റെ മോനെ.....</td>\n",
       "      <td>Offensive-Ind</td>\n",
       "    </tr>\n",
       "    <tr>\n",
       "      <th>9398</th>\n",
       "      <td>കല്ല്യാണം കഴിഞ്ഞ സൽമിയാനേം കെട്ട്യോനേം ഇന്നു ക...</td>\n",
       "      <td>Offensive-Ind</td>\n",
       "    </tr>\n",
       "    <tr>\n",
       "      <th>9399</th>\n",
       "      <td>കമ്മികൾക്ക് ഈ ആഴ്ച്ചയിലെ തന്ത തുർക്കികളാണ്.......</td>\n",
       "      <td>Offensive-Group</td>\n",
       "    </tr>\n",
       "  </tbody>\n",
       "</table>\n",
       "<p>9400 rows × 2 columns</p>\n",
       "</div>"
      ],
      "text/plain": [
       "                                                   text              weaklabel\n",
       "0      തായോളി.. എന്ന് നിന്നെ വിളിക്കുന്നത് കുറവാണ്.....          Offensive-Ind\n",
       "1     അങ്ങനെ ട്വിറ്റെറിലേക്ക് ഒരു മൈരൻ കൂടി വന്നിരിക...          Offensive-Ind\n",
       "2                 അതോ ശ്രീ കുണ്ടൻ എന്നോ🤔 ഏതാണ് മെച്ചം.         Offensive-Group\n",
       "3                              ചില തെണ്ടികൾ അങ്ങനാ 😏😏    Offensive-Untargetted\n",
       "4                                       നീ ഒരു മൈരൻ ആണ്          Offensive-Ind\n",
       "...                                                 ...                    ...\n",
       "9395  ഇങ്ങനത്തെ മൂഞ്ചി തൊലിഞ്ഞ രാത്രികളിലാണ് എനിക്ക്...          Not-Offensive\n",
       "9396  ഈ കൊച്ചു മൈരൻ കിട്ടിയ അവസരത്തിൽ വെറുതെ താളം പി...          Offensive-Ind\n",
       "9397             നിന്റെ തന്ത യോട് പറ നായിന്റെ മോനെ.....          Offensive-Ind\n",
       "9398  കല്ല്യാണം കഴിഞ്ഞ സൽമിയാനേം കെട്ട്യോനേം ഇന്നു ക...          Offensive-Ind\n",
       "9399  കമ്മികൾക്ക് ഈ ആഴ്ച്ചയിലെ തന്ത തുർക്കികളാണ്.......        Offensive-Group\n",
       "\n",
       "[9400 rows x 2 columns]"
      ]
     },
     "execution_count": 6,
     "metadata": {},
     "output_type": "execute_result"
    }
   ],
   "source": [
    "df2"
   ]
  },
  {
   "cell_type": "code",
   "execution_count": 3,
   "metadata": {},
   "outputs": [],
   "source": [
    "df3 = pd.concat([df1,df2])"
   ]
  },
  {
   "cell_type": "code",
   "execution_count": 4,
   "metadata": {},
   "outputs": [],
   "source": [
    "df3.to_excel('MergedBalanced.xlsx', index=False )"
   ]
  }
 ],
 "metadata": {
  "kernelspec": {
   "display_name": "Python 3.8.13 ('rubrix')",
   "language": "python",
   "name": "python3"
  },
  "language_info": {
   "codemirror_mode": {
    "name": "ipython",
    "version": 3
   },
   "file_extension": ".py",
   "mimetype": "text/x-python",
   "name": "python",
   "nbconvert_exporter": "python",
   "pygments_lexer": "ipython3",
   "version": "3.8.13"
  },
  "orig_nbformat": 4,
  "vscode": {
   "interpreter": {
    "hash": "01ecd0fca16fd541386a98af1f1167bd548bb92cdfb21ce13476623cd809977c"
   }
  }
 },
 "nbformat": 4,
 "nbformat_minor": 2
}
