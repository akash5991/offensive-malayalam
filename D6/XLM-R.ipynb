{
 "cells": [
  {
   "cell_type": "code",
   "execution_count": 1,
   "metadata": {},
   "outputs": [],
   "source": [
    "model_name = \"xlm-roberta-base\""
   ]
  },
  {
   "cell_type": "code",
   "execution_count": 2,
   "metadata": {},
   "outputs": [],
   "source": [
    "from transformers import AutoModelForSequenceClassification, AutoTokenizer, DataCollatorWithPadding, Trainer, TrainingArguments, EarlyStoppingCallback\n",
    "from datasets import load_dataset, Dataset, ClassLabel\n",
    "from sklearn.model_selection import train_test_split\n",
    "import torch\n",
    "from torch import nn\n",
    "from sklearn.metrics import accuracy_score, recall_score, precision_score, f1_score\n",
    "import numpy as np\n",
    "import pandas as pd\n",
    "\n",
    "torch.cuda.empty_cache()"
   ]
  },
  {
   "cell_type": "code",
   "execution_count": 3,
   "metadata": {},
   "outputs": [],
   "source": [
    "df = pd.read_excel('MergedBalanced.xlsx')"
   ]
  },
  {
   "cell_type": "code",
   "execution_count": 4,
   "metadata": {},
   "outputs": [],
   "source": [
    "train_data, test_data = train_test_split(df, test_size=0.2, random_state=42)\n"
   ]
  },
  {
   "cell_type": "code",
   "execution_count": 5,
   "metadata": {},
   "outputs": [],
   "source": [
    "data_train = Dataset.from_pandas(train_data, preserve_index=False)\n",
    "data_test = Dataset.from_pandas(test_data, preserve_index=False)"
   ]
  },
  {
   "cell_type": "code",
   "execution_count": 6,
   "metadata": {},
   "outputs": [
    {
     "name": "stderr",
     "output_type": "stream",
     "text": [
      "Parameter 'function'=<function tokenize_function at 0x7fa8057ae820> of the transform datasets.arrow_dataset.Dataset._map_single couldn't be hashed properly, a random hash was used instead. Make sure your transforms and parameters are serializable with pickle or dill for the dataset fingerprinting and caching to work. If you reuse this transform, the caching mechanism will consider it to be different from the previous calls and recompute everything. This warning is only showed once. Subsequent hashing failures won't be showed.\n"
     ]
    },
    {
     "data": {
      "application/vnd.jupyter.widget-view+json": {
       "model_id": "889f580760244652b1c067e88e795bd6",
       "version_major": 2,
       "version_minor": 0
      },
      "text/plain": [
       "  0%|          | 0/9 [00:00<?, ?ba/s]"
      ]
     },
     "metadata": {},
     "output_type": "display_data"
    },
    {
     "data": {
      "application/vnd.jupyter.widget-view+json": {
       "model_id": "a68c5d28a33848a89f06333f5526f14f",
       "version_major": 2,
       "version_minor": 0
      },
      "text/plain": [
       "  0%|          | 0/3 [00:00<?, ?ba/s]"
      ]
     },
     "metadata": {},
     "output_type": "display_data"
    }
   ],
   "source": [
    "tokenizer = AutoTokenizer.from_pretrained(model_name)\n",
    "\n",
    "labels = ClassLabel(num_classes=4, names=['Offensive-Ind', 'Not-Offensive', 'Offensive-Group','Offensive-Untargetted'], names_file=None, id=None)\n",
    "\n",
    "def tokenize_function(examples):\n",
    "    tokens =  tokenizer(examples[\"text\"], padding=True, truncation=True, max_length=128)\n",
    "    tokens['label'] = labels.str2int(examples['label'])\n",
    "    return tokens\n",
    "\n",
    "tokenized_train = data_train.map(tokenize_function, batched=True)\n",
    "tokenized_test = data_test.map(tokenize_function, batched=True)\n",
    "\n",
    "tokenized_train.set_format('torch', columns=['input_ids', 'attention_mask', 'label'])\n",
    "tokenized_test.set_format('torch', columns=['input_ids', 'attention_mask', 'label'])"
   ]
  },
  {
   "cell_type": "code",
   "execution_count": 7,
   "metadata": {},
   "outputs": [],
   "source": [
    "data_collator = DataCollatorWithPadding(tokenizer=tokenizer)"
   ]
  },
  {
   "cell_type": "code",
   "execution_count": 8,
   "metadata": {},
   "outputs": [],
   "source": [
    "id2label = {idx:labels.int2str(idx) for idx in range(4)}\n",
    "label2id = {v:k for k,v in id2label.items()}"
   ]
  },
  {
   "cell_type": "code",
   "execution_count": 9,
   "metadata": {},
   "outputs": [],
   "source": [
    "class WeightedLossTrainer(Trainer):\n",
    "    def compute_loss(self, model, inputs, return_outputs=False):\n",
    "        #Feed inputs to model and extract logits\n",
    "        outputs = model(**inputs)\n",
    "        logits = outputs.get(\"logits\")\n",
    "        #Extract labels\n",
    "        labels = inputs.get(\"labels\")\n",
    "        # Define loss function with class weights\n",
    "        loss_func = nn.CrossEntropyLoss()\n",
    "        # Compute loss\n",
    "        loss = loss_func(logits, labels)\n",
    "        return (loss, outputs) if return_outputs else loss "
   ]
  },
  {
   "cell_type": "code",
   "execution_count": 10,
   "metadata": {},
   "outputs": [
    {
     "name": "stderr",
     "output_type": "stream",
     "text": [
      "Some weights of the model checkpoint at xlm-roberta-base were not used when initializing XLMRobertaForSequenceClassification: ['lm_head.dense.bias', 'lm_head.layer_norm.weight', 'roberta.pooler.dense.weight', 'lm_head.layer_norm.bias', 'lm_head.bias', 'lm_head.dense.weight', 'roberta.pooler.dense.bias', 'lm_head.decoder.weight']\n",
      "- This IS expected if you are initializing XLMRobertaForSequenceClassification from the checkpoint of a model trained on another task or with another architecture (e.g. initializing a BertForSequenceClassification model from a BertForPreTraining model).\n",
      "- This IS NOT expected if you are initializing XLMRobertaForSequenceClassification from the checkpoint of a model that you expect to be exactly identical (initializing a BertForSequenceClassification model from a BertForSequenceClassification model).\n",
      "Some weights of XLMRobertaForSequenceClassification were not initialized from the model checkpoint at xlm-roberta-base and are newly initialized: ['classifier.out_proj.weight', 'classifier.dense.weight', 'classifier.out_proj.bias', 'classifier.dense.bias']\n",
      "You should probably TRAIN this model on a down-stream task to be able to use it for predictions and inference.\n"
     ]
    }
   ],
   "source": [
    "model = AutoModelForSequenceClassification.from_pretrained(model_name,\n",
    "                                                             num_labels=4,\n",
    "                                                             id2label=id2label,\n",
    "                                                             label2id=label2id)"
   ]
  },
  {
   "cell_type": "code",
   "execution_count": 11,
   "metadata": {},
   "outputs": [],
   "source": [
    "def compute_metrics(pred):\n",
    "\n",
    "    labels = pred.label_ids\n",
    "    preds = pred.predictions.argmax(-1)\n",
    "\n",
    "    accuracy = accuracy_score(y_true=labels, y_pred=preds)\n",
    "    recall = recall_score(y_true=labels, y_pred=preds, average='weighted')\n",
    "    precision = precision_score(y_true=labels, y_pred=preds, average='weighted')\n",
    "    f1 = f1_score(y_true=labels, y_pred=preds, average='weighted')\n",
    "\n",
    "    return {\"accuracy\": accuracy, \"precision\": precision, \"recall\": recall, \"f1\": f1}"
   ]
  },
  {
   "cell_type": "code",
   "execution_count": 12,
   "metadata": {},
   "outputs": [],
   "source": [
    "batch_size = 16\n",
    "epochs = 30\n",
    "leaning_rate = 2e-5\n",
    "\n",
    "\n",
    "# Log the training loss at each epoch\n",
    "logging_steps = len(tokenized_train) // batch_size\n",
    "\n",
    "training_args = TrainingArguments(output_dir='XLM-R',\n",
    "                                    num_train_epochs=epochs,\n",
    "                                    learning_rate=leaning_rate,\n",
    "                                    per_device_train_batch_size=batch_size,\n",
    "                                    per_device_eval_batch_size=batch_size,\n",
    "                                    weight_decay=0.01,\n",
    "                                    evaluation_strategy=\"steps\",\n",
    "                                    logging_steps=logging_steps,\n",
    "                                    fp16=True,\n",
    "                                    eval_steps=250,\n",
    "                                    load_best_model_at_end=True)"
   ]
  },
  {
   "cell_type": "code",
   "execution_count": 13,
   "metadata": {},
   "outputs": [
    {
     "name": "stderr",
     "output_type": "stream",
     "text": [
      "Using cuda_amp half precision backend\n"
     ]
    }
   ],
   "source": [
    "trainer = WeightedLossTrainer(\n",
    "    model=model,\n",
    "    args=training_args,\n",
    "    train_dataset=tokenized_train,\n",
    "    eval_dataset=tokenized_test,\n",
    "    compute_metrics=compute_metrics,\n",
    "    tokenizer=tokenizer,\n",
    "    data_collator=data_collator,\n",
    "    callbacks=[EarlyStoppingCallback(early_stopping_patience=5)]\n",
    ")"
   ]
  },
  {
   "cell_type": "code",
   "execution_count": 14,
   "metadata": {},
   "outputs": [],
   "source": [
    "import warnings\n",
    "warnings.filterwarnings('ignore')"
   ]
  },
  {
   "cell_type": "code",
   "execution_count": 15,
   "metadata": {},
   "outputs": [
    {
     "name": "stderr",
     "output_type": "stream",
     "text": [
      "The following columns in the training set don't have a corresponding argument in `XLMRobertaForSequenceClassification.forward` and have been ignored: text. If text are not expected by `XLMRobertaForSequenceClassification.forward`,  you can safely ignore this message.\n",
      "***** Running training *****\n",
      "  Num examples = 8320\n",
      "  Num Epochs = 30\n",
      "  Instantaneous batch size per device = 16\n",
      "  Total train batch size (w. parallel, distributed & accumulation) = 32\n",
      "  Gradient Accumulation steps = 1\n",
      "  Total optimization steps = 7800\n"
     ]
    },
    {
     "data": {
      "text/html": [
       "\n",
       "    <div>\n",
       "      \n",
       "      <progress value='2250' max='7800' style='width:300px; height:20px; vertical-align: middle;'></progress>\n",
       "      [2250/7800 13:02 < 32:12, 2.87 it/s, Epoch 8/30]\n",
       "    </div>\n",
       "    <table border=\"1\" class=\"dataframe\">\n",
       "  <thead>\n",
       " <tr style=\"text-align: left;\">\n",
       "      <th>Step</th>\n",
       "      <th>Training Loss</th>\n",
       "      <th>Validation Loss</th>\n",
       "      <th>Accuracy</th>\n",
       "      <th>Precision</th>\n",
       "      <th>Recall</th>\n",
       "      <th>F1</th>\n",
       "    </tr>\n",
       "  </thead>\n",
       "  <tbody>\n",
       "    <tr>\n",
       "      <td>250</td>\n",
       "      <td>No log</td>\n",
       "      <td>0.714725</td>\n",
       "      <td>0.760096</td>\n",
       "      <td>0.697780</td>\n",
       "      <td>0.760096</td>\n",
       "      <td>0.727344</td>\n",
       "    </tr>\n",
       "    <tr>\n",
       "      <td>500</td>\n",
       "      <td>No log</td>\n",
       "      <td>0.624767</td>\n",
       "      <td>0.791346</td>\n",
       "      <td>0.779959</td>\n",
       "      <td>0.791346</td>\n",
       "      <td>0.780400</td>\n",
       "    </tr>\n",
       "    <tr>\n",
       "      <td>750</td>\n",
       "      <td>0.736900</td>\n",
       "      <td>0.655828</td>\n",
       "      <td>0.804327</td>\n",
       "      <td>0.800320</td>\n",
       "      <td>0.804327</td>\n",
       "      <td>0.784843</td>\n",
       "    </tr>\n",
       "    <tr>\n",
       "      <td>1000</td>\n",
       "      <td>0.736900</td>\n",
       "      <td>0.581986</td>\n",
       "      <td>0.808173</td>\n",
       "      <td>0.803402</td>\n",
       "      <td>0.808173</td>\n",
       "      <td>0.805305</td>\n",
       "    </tr>\n",
       "    <tr>\n",
       "      <td>1250</td>\n",
       "      <td>0.508800</td>\n",
       "      <td>0.585082</td>\n",
       "      <td>0.802404</td>\n",
       "      <td>0.801895</td>\n",
       "      <td>0.802404</td>\n",
       "      <td>0.797733</td>\n",
       "    </tr>\n",
       "    <tr>\n",
       "      <td>1500</td>\n",
       "      <td>0.508800</td>\n",
       "      <td>0.599945</td>\n",
       "      <td>0.807692</td>\n",
       "      <td>0.806705</td>\n",
       "      <td>0.807692</td>\n",
       "      <td>0.805469</td>\n",
       "    </tr>\n",
       "    <tr>\n",
       "      <td>1750</td>\n",
       "      <td>0.399700</td>\n",
       "      <td>0.623365</td>\n",
       "      <td>0.813462</td>\n",
       "      <td>0.811738</td>\n",
       "      <td>0.813462</td>\n",
       "      <td>0.808271</td>\n",
       "    </tr>\n",
       "    <tr>\n",
       "      <td>2000</td>\n",
       "      <td>0.399700</td>\n",
       "      <td>0.685535</td>\n",
       "      <td>0.801442</td>\n",
       "      <td>0.803335</td>\n",
       "      <td>0.801442</td>\n",
       "      <td>0.802111</td>\n",
       "    </tr>\n",
       "    <tr>\n",
       "      <td>2250</td>\n",
       "      <td>0.318200</td>\n",
       "      <td>0.709099</td>\n",
       "      <td>0.810096</td>\n",
       "      <td>0.809178</td>\n",
       "      <td>0.810096</td>\n",
       "      <td>0.808195</td>\n",
       "    </tr>\n",
       "  </tbody>\n",
       "</table><p>"
      ],
      "text/plain": [
       "<IPython.core.display.HTML object>"
      ]
     },
     "metadata": {},
     "output_type": "display_data"
    },
    {
     "name": "stderr",
     "output_type": "stream",
     "text": [
      "The following columns in the evaluation set don't have a corresponding argument in `XLMRobertaForSequenceClassification.forward` and have been ignored: text. If text are not expected by `XLMRobertaForSequenceClassification.forward`,  you can safely ignore this message.\n",
      "***** Running Evaluation *****\n",
      "  Num examples = 2080\n",
      "  Batch size = 32\n",
      "The following columns in the evaluation set don't have a corresponding argument in `XLMRobertaForSequenceClassification.forward` and have been ignored: text. If text are not expected by `XLMRobertaForSequenceClassification.forward`,  you can safely ignore this message.\n",
      "***** Running Evaluation *****\n",
      "  Num examples = 2080\n",
      "  Batch size = 32\n",
      "Saving model checkpoint to XLM-R/checkpoint-500\n",
      "Configuration saved in XLM-R/checkpoint-500/config.json\n",
      "Model weights saved in XLM-R/checkpoint-500/pytorch_model.bin\n",
      "tokenizer config file saved in XLM-R/checkpoint-500/tokenizer_config.json\n",
      "Special tokens file saved in XLM-R/checkpoint-500/special_tokens_map.json\n",
      "The following columns in the evaluation set don't have a corresponding argument in `XLMRobertaForSequenceClassification.forward` and have been ignored: text. If text are not expected by `XLMRobertaForSequenceClassification.forward`,  you can safely ignore this message.\n",
      "***** Running Evaluation *****\n",
      "  Num examples = 2080\n",
      "  Batch size = 32\n",
      "The following columns in the evaluation set don't have a corresponding argument in `XLMRobertaForSequenceClassification.forward` and have been ignored: text. If text are not expected by `XLMRobertaForSequenceClassification.forward`,  you can safely ignore this message.\n",
      "***** Running Evaluation *****\n",
      "  Num examples = 2080\n",
      "  Batch size = 32\n",
      "Saving model checkpoint to XLM-R/checkpoint-1000\n",
      "Configuration saved in XLM-R/checkpoint-1000/config.json\n",
      "Model weights saved in XLM-R/checkpoint-1000/pytorch_model.bin\n",
      "tokenizer config file saved in XLM-R/checkpoint-1000/tokenizer_config.json\n",
      "Special tokens file saved in XLM-R/checkpoint-1000/special_tokens_map.json\n",
      "The following columns in the evaluation set don't have a corresponding argument in `XLMRobertaForSequenceClassification.forward` and have been ignored: text. If text are not expected by `XLMRobertaForSequenceClassification.forward`,  you can safely ignore this message.\n",
      "***** Running Evaluation *****\n",
      "  Num examples = 2080\n",
      "  Batch size = 32\n",
      "The following columns in the evaluation set don't have a corresponding argument in `XLMRobertaForSequenceClassification.forward` and have been ignored: text. If text are not expected by `XLMRobertaForSequenceClassification.forward`,  you can safely ignore this message.\n",
      "***** Running Evaluation *****\n",
      "  Num examples = 2080\n",
      "  Batch size = 32\n",
      "Saving model checkpoint to XLM-R/checkpoint-1500\n",
      "Configuration saved in XLM-R/checkpoint-1500/config.json\n",
      "Model weights saved in XLM-R/checkpoint-1500/pytorch_model.bin\n",
      "tokenizer config file saved in XLM-R/checkpoint-1500/tokenizer_config.json\n",
      "Special tokens file saved in XLM-R/checkpoint-1500/special_tokens_map.json\n",
      "The following columns in the evaluation set don't have a corresponding argument in `XLMRobertaForSequenceClassification.forward` and have been ignored: text. If text are not expected by `XLMRobertaForSequenceClassification.forward`,  you can safely ignore this message.\n",
      "***** Running Evaluation *****\n",
      "  Num examples = 2080\n",
      "  Batch size = 32\n",
      "The following columns in the evaluation set don't have a corresponding argument in `XLMRobertaForSequenceClassification.forward` and have been ignored: text. If text are not expected by `XLMRobertaForSequenceClassification.forward`,  you can safely ignore this message.\n",
      "***** Running Evaluation *****\n",
      "  Num examples = 2080\n",
      "  Batch size = 32\n",
      "Saving model checkpoint to XLM-R/checkpoint-2000\n",
      "Configuration saved in XLM-R/checkpoint-2000/config.json\n",
      "Model weights saved in XLM-R/checkpoint-2000/pytorch_model.bin\n",
      "tokenizer config file saved in XLM-R/checkpoint-2000/tokenizer_config.json\n",
      "Special tokens file saved in XLM-R/checkpoint-2000/special_tokens_map.json\n",
      "The following columns in the evaluation set don't have a corresponding argument in `XLMRobertaForSequenceClassification.forward` and have been ignored: text. If text are not expected by `XLMRobertaForSequenceClassification.forward`,  you can safely ignore this message.\n",
      "***** Running Evaluation *****\n",
      "  Num examples = 2080\n",
      "  Batch size = 32\n",
      "\n",
      "\n",
      "Training completed. Do not forget to share your model on huggingface.co/models =)\n",
      "\n",
      "\n",
      "Loading best model from XLM-R/checkpoint-1000 (score: 0.5819863677024841).\n"
     ]
    },
    {
     "data": {
      "text/plain": [
       "TrainOutput(global_step=2250, training_loss=0.47345653110080294, metrics={'train_runtime': 786.8894, 'train_samples_per_second': 317.198, 'train_steps_per_second': 9.912, 'total_flos': 4736084041728000.0, 'train_loss': 0.47345653110080294, 'epoch': 8.65})"
      ]
     },
     "execution_count": 15,
     "metadata": {},
     "output_type": "execute_result"
    }
   ],
   "source": [
    "trainer.train()"
   ]
  },
  {
   "cell_type": "code",
   "execution_count": 1,
   "metadata": {},
   "outputs": [
    {
     "name": "stderr",
     "output_type": "stream",
     "text": [
      "/home/sudheesh/anaconda3/envs/rubrix/lib/python3.8/site-packages/transformers/pipelines/text_classification.py:89: UserWarning: `return_all_scores` is now deprecated, use `top_k=1` if you want similar functionnality\n",
      "  warnings.warn(\n"
     ]
    },
    {
     "name": "stdout",
     "output_type": "stream",
     "text": [
      "                       precision    recall  f1-score   support\n",
      "\n",
      "        Not-Offensive       0.63      0.59      0.61       186\n",
      "      Offensive-Group       0.73      0.69      0.71       308\n",
      "        Offensive-Ind       0.87      0.90      0.88      1406\n",
      "Offensive-Untargetted       0.62      0.56      0.59       180\n",
      "\n",
      "             accuracy                           0.81      2080\n",
      "            macro avg       0.71      0.68      0.70      2080\n",
      "         weighted avg       0.80      0.81      0.81      2080\n",
      "\n"
     ]
    }
   ],
   "source": [
    "from transformers import TextClassificationPipeline, AutoModelForSequenceClassification, AutoTokenizer\n",
    "from sklearn.metrics import classification_report\n",
    "import pandas as pd\n",
    "from sklearn.model_selection import train_test_split\n",
    "from datasets import  ClassLabel\n",
    "\n",
    "\n",
    "df = pd.read_excel('MergedBalanced.xlsx')\n",
    "train_data, test_data = train_test_split(df, test_size=0.2, random_state=42)\n",
    "\n",
    "model_name = \"XLM-R/checkpoint-1000\"\n",
    "tokenizer = AutoTokenizer.from_pretrained(model_name)\n",
    "\n",
    "\n",
    "labels = ClassLabel(num_classes=4, names=['Offensive-Ind', 'Not-Offensive', 'Offensive-Group','Offensive-Untargetted'], names_file=None, id=None)\n",
    "id2label = {idx:labels.int2str(idx) for idx in range(4)}\n",
    "label2id = {v:k for k,v in id2label.items()}\n",
    "\n",
    "model = AutoModelForSequenceClassification.from_pretrained(model_name,num_labels=4,id2label=id2label,label2id=label2id)\n",
    "\n",
    "\n",
    "pipe = TextClassificationPipeline(model=model, tokenizer=tokenizer, return_all_scores=False)\n",
    "y_pred = pipe(test_data['text'].tolist())\n",
    "y_pred = [y_pred[i][\"label\"] for i in range(len(y_pred))]\n",
    "y_true = test_data['label'].tolist()\n",
    "print(classification_report(y_true, y_pred))"
   ]
  }
 ],
 "metadata": {
  "kernelspec": {
   "display_name": "Python 3.8.13 ('rubrix')",
   "language": "python",
   "name": "python3"
  },
  "language_info": {
   "codemirror_mode": {
    "name": "ipython",
    "version": 3
   },
   "file_extension": ".py",
   "mimetype": "text/x-python",
   "name": "python",
   "nbconvert_exporter": "python",
   "pygments_lexer": "ipython3",
   "version": "3.8.13"
  },
  "orig_nbformat": 4,
  "vscode": {
   "interpreter": {
    "hash": "01ecd0fca16fd541386a98af1f1167bd548bb92cdfb21ce13476623cd809977c"
   }
  }
 },
 "nbformat": 4,
 "nbformat_minor": 2
}
